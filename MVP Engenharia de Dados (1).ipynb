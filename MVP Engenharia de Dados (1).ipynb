{
 "cells": [
  {
   "cell_type": "markdown",
   "metadata": {
    "application/vnd.databricks.v1+cell": {
     "cellMetadata": {
      "byteLimit": 2048000,
      "rowLimit": 10000
     },
     "inputWidgets": {},
     "nuid": "96816ed7-b08a-4ca3-abb9-f99880c3535d",
     "showTitle": false,
     "title": ""
    }
   },
   "source": [
    "## PUC RJ - MPV - Sprint: Engenharia de Dados\n",
    "\n",
    "## Wallace Euzébio dos Santos\n",
    "\n",
    "\n",
    "#### Objetivo: Analisar o desempenho de diferentes escolas na prova do ENEM de acordo com dados históricos. "
   ]
  },
  {
   "cell_type": "markdown",
   "metadata": {
    "application/vnd.databricks.v1+cell": {
     "cellMetadata": {
      "byteLimit": 2048000,
      "rowLimit": 10000
     },
     "inputWidgets": {},
     "nuid": "093d74a9-9e81-4503-b0a3-84945f64a194",
     "showTitle": false,
     "title": ""
    }
   },
   "source": [
    "O dataset deste trabalho foi retirado do site pertencente ao Governo Federal, com informações do intervalo de anos de 2005 a 2015, material disponível no caminho:\n",
    "https://www.gov.br/inep/pt-br/acesso-a-informacao/dados-abertos/microdados/enem-por-escola"
   ]
  },
  {
   "cell_type": "markdown",
   "metadata": {
    "application/vnd.databricks.v1+cell": {
     "cellMetadata": {
      "byteLimit": 2048000,
      "rowLimit": 10000
     },
     "inputWidgets": {},
     "nuid": "e6a4783f-1584-4c36-b043-35c7d4e90832",
     "showTitle": false,
     "title": ""
    }
   },
   "source": [
    "## Catálogo de dados:\n",
    "\n",
    "NU_ANO - Ano da edição do ENEM por Escola.\n",
    "\n",
    "CO_UF_ESCOLA - Código da Unidade da Federação da escola.\n",
    "\n",
    "CO_MUNICIPIO_ESCOLA - Código do município da escola - Categorias: 1º dígito: Região; 1º e 2º dígitos: UF; 3º, 4º, 5º e 6º dígitos: Município; 7º dígito: dígito verificador.\n",
    "\n",
    "NO_MUNICIPIO_ESCOLA - Nome do município da escola.\n",
    "\n",
    "CO_ESCOLA_EDUCACENSO - Código da Escola. Número gerado como identificador da escola no Educacenso. \n",
    "\n",
    "NO_ESCOLA_EDUCACENSO - Nome da Escola no Educacenso do ano anterior.\n",
    "\n",
    "TP_DEPENDENCIA_ADM_ESCOLA - Tipo da dependência administrativa da entidade (Escola) do Educacenso - 1 - Federal, 2 - Estadual, 3 - Municipal, 4 - Privada.\n",
    "\n",
    "TP_LOCALIZACAO_ESCOLA - Tipo de Localização da escola - 1 - Urbana, 2 - Rural.\n",
    "\n",
    "NU_MATRICULAS - Número de alunos matriculados no Censo Escolar na 3ª e 4ª do Ensino Médio. Anos de 2005 a 2015.\n",
    "\n",
    "NU_PARTICIPANTES_NEC_ESP - Número de Participantes do Enem que cumprem os requisitos de participação no cálculo da média e possui necessidade especial. Anos de 2013 a 2015.\n",
    "\n",
    "NU_PARTICIPANTES - Número de Participantes do Enem que cumprem os requisitos de participação no cálculo da média. Anos de 2005 a 2015.\n",
    "\n",
    "NU_TAXA_PARTICIPACAO - A taxa de participação é o número total de participantes no ENEM da escola dividido pelo número de matriculados nos anos finais do Ensino Médio da escola, informado no Censo Escolar. Anos de 2009 a 2015.\n",
    "\n",
    "NU_MEDIA_CN - Média das notas de Ciências da Natureza do Ensino Médio Regular. Anos de 2009 a 2015.\n",
    "\n",
    "NU_MEDIA_CH - Média das notas de Ciências Humanas do Ensino Médio Regular. Anos de 2009 a 2015.\n",
    "\n",
    "NU_MEDIA_LP - Média das notas de Linguagens e Códigos do Ensino Médio Regular. Anos de 2009 a 2015.\n",
    "\n",
    "NU_MEDIA_MT - Média das notas de Matemática do Ensino Médio Regular. Anos de 2009 a 2015.\n",
    "\n",
    "NU_MEDIA_RED - Média das notas de Redação do Ensino Médio Regular. Anos de 2008 a 2015.\n",
    "\n",
    "NU_MEDIA_OBJ - Média da prova objetiva do Ensino Médio Regular. Ano 2008.\n",
    "\n",
    "NU_MEDIA_TOT - Média Total (Redação e Prova Objetiva) Ensino Médio Regular corrigida pelo número de participantes. Anos 2005 a 2007.\n",
    "\n",
    "INSE - Indicador de Nível Socioeconômico da escola - Para melhor descrever o nível socioeconômico das escolas, foram criados seis grupos, de forma que o Grupo 1 congrega as escolas com Inse médio mais baixo e o Grupo 6, com mais alto. (Edição 2015) – Categorias: Grupo 1, Grupo 2, Grupo 3, Grupo 4, Grupo 5, Grupo 6. Ano 2015.\n",
    "\n",
    "PC_FORMACAO_DOCENTE - Indicador de Adequação da Formação Docente da escola para lecionar no Ensino Médio. Anos 2013 a 2015.\n",
    "\n",
    "NU_TAXA_PERMANENCIA - Indicador de Permanência na Escola para o Ensino Médio. Anos 2014 e 2015.\n",
    "\n",
    "NU_TAXA_APROVACAO - Taxa de aprovação dos alunos no Ensino Médio. Anos 2005, 2007 a 2015.\n",
    "\n",
    "NU_TAXA_REPROVACAO - Taxa de reprovação dos alunos no Ensino Médio. Anos 2005, 2007 a 2015.\n",
    "\n",
    "NU_TAXA_ABANDONO - Taxa de abandono dos alunos no Ensino Médio. Anos 2005, 2007 a 2015.\n",
    "\n",
    "PORTE_ESCOLA - O indicador de porte da escola defini o tamanho da escola pelo número de alunos matriculados no último ano do Ensino médio. Categorias: De 1 a 30 alunos, De 31 a 60 alunos, De 61 a 90 alunos, Maior que 90 alunos. Anos de 2005 a 2015.\n",
    "\n",
    "\n",
    "Notas: \n",
    "\n",
    "1. Até 2008 a escala das notas do Enem variavam de Zero a 100 (Cem). Nos demais anos a escala varia de zero a 1.000 (um mil).\n",
    "\n",
    "2. Até a edição de 2008 não foi exigido taxa de participação para divulgação dos resultas. Das edições de 2009 e 2010 a taxa mínima era de apenas 2%, e a partir de 2011 a taxa mínima passou a ser 50%.\n",
    "\n",
    "3. Informações sobre os Indicadores são apresentadas em Nota Técnica específica disponível no Portal do Inep.\n",
    "\n",
    "4. Apenas o ano de 2015 tem o indicador INSE. Esta versão era a mais atual até o fechamento do produto.\n",
    "\n",
    "\n",
    "\n",
    "\n",
    "\n"
   ]
  },
  {
   "cell_type": "markdown",
   "metadata": {
    "application/vnd.databricks.v1+cell": {
     "cellMetadata": {
      "byteLimit": 2048000,
      "rowLimit": 10000
     },
     "inputWidgets": {},
     "nuid": "d689cc0f-5652-4d6d-98f9-2b7ec495f339",
     "showTitle": false,
     "title": ""
    }
   },
   "source": [
    "O ENEM (Exame Nacional do Ensino Médio) é uma prova padronizada aplicada pelo Instituto Nacional de Estudos e Pesquisas Educacionais Anísio Teixeira (INEP) no Brasil. Criado em 1998, o ENEM foi inicialmente concebido para avaliar a qualidade do ensino médio no país, mas ao longo dos anos, sua finalidade se expandiu. Aqui estão alguns pontos chave sobre o ENEM:\n",
    "\n",
    "### Objetivos do ENEM\n",
    "\n",
    "1. **Avaliação de Desempenho:**\n",
    "   - Avaliar o desempenho dos estudantes ao final do ensino médio, proporcionando um diagnóstico sobre a qualidade da educação básica no Brasil.\n",
    "\n",
    "2. **Acesso ao Ensino Superior:**\n",
    "   - Serve como um dos principais meios de ingresso em universidades públicas e privadas. Muitas instituições utilizam a nota do ENEM no processo seletivo, seja como única forma de ingresso, seja como parte do processo (complementando o vestibular tradicional).\n",
    "\n",
    "3. **Programas Governamentais:**\n",
    "   - A nota do ENEM é utilizada em diversos programas governamentais, como o Sistema de Seleção Unificada (SiSU), o Programa Universidade para Todos (ProUni), o Fundo de Financiamento Estudantil (FIES), e o Programa de Acesso à Educação Técnica e Emprego (Pronatec).\n",
    "\n",
    "4. **Autoavaliação:**\n",
    "   - Proporciona aos estudantes uma forma de autoavaliação, ajudando-os a identificar suas forças e fraquezas em diversas áreas do conhecimento.\n",
    "\n",
    "### Importância do ENEM\n",
    "\n",
    "- **Inclusão Educacional:**\n",
    "  - Democratiza o acesso ao ensino superior, permitindo que estudantes de diversas regiões e contextos socioeconômicos concorram a vagas em universidades públicas e privadas.\n",
    "\n",
    "- **Planejamento Educacional:**\n",
    "  - Fornece dados importantes para o planejamento e a formulação de políticas públicas educacionais.\n",
    "\n",
    "- **Aprimoramento do Ensino:**\n",
    "  - Incentiva escolas e professores a melhorarem seus métodos de ensino, preparando melhor os alunos para o exame."
   ]
  },
  {
   "cell_type": "markdown",
   "metadata": {
    "application/vnd.databricks.v1+cell": {
     "cellMetadata": {
      "byteLimit": 2048000,
      "rowLimit": 10000
     },
     "inputWidgets": {},
     "nuid": "57dd5648-a584-43d4-9458-0d4357c0af34",
     "showTitle": false,
     "title": ""
    }
   },
   "source": [
    "**Acho interessante essa base de dados, pois o ENEM é um exame de nível nacional que unificou várias formas de ingresso às faculdades públicas e privadas. De certa forma, ele não apenas mede a proficiência dos alunos, mas também democratiza o acesso à educação e à graduação de nível superior.**"
   ]
  },
  {
   "cell_type": "markdown",
   "metadata": {
    "application/vnd.databricks.v1+cell": {
     "cellMetadata": {},
     "inputWidgets": {},
     "nuid": "090cb757-a5f9-44ba-b874-f674ee00aec5",
     "showTitle": false,
     "title": ""
    }
   },
   "source": [
    "__________________________________________________________________________________________________________________________________________________________"
   ]
  },
  {
   "cell_type": "markdown",
   "metadata": {
    "application/vnd.databricks.v1+cell": {
     "cellMetadata": {},
     "inputWidgets": {},
     "nuid": "f1728dcd-261f-46bc-9e8a-a5b7cd25315d",
     "showTitle": false,
     "title": ""
    }
   },
   "source": [
    "Abaixo foi feito o import do arquivo, CSV lá do Github."
   ]
  },
  {
   "cell_type": "code",
   "execution_count": 0,
   "metadata": {
    "application/vnd.databricks.v1+cell": {
     "cellMetadata": {
      "byteLimit": 2048000,
      "rowLimit": 10000
     },
     "inputWidgets": {},
     "nuid": "03312e14-2df6-4571-8326-815b3bfaf51f",
     "showTitle": false,
     "title": ""
    }
   },
   "outputs": [
    {
     "output_type": "stream",
     "name": "stderr",
     "output_type": "stream",
     "text": [
      "/root/.ipykernel/916/command-1566892302818126-2135760272:3: DtypeWarning: Columns (20) have mixed types. Specify dtype option on import or set low_memory=False.\n  df = spark.createDataFrame(pd.read_csv(url,sep=\";\", encoding=\"latin1\"))\n"
     ]
    }
   ],
   "source": [
    "import pandas as pd \n",
    "url = \"https://raw.githubusercontent.com/WallaceSantos1989/Engenahria-de-dados/main/MICRODADOS_ENEM_ESCOLA1.csv\"\n",
    "df = spark.createDataFrame(pd.read_csv(url,sep=\";\", encoding=\"latin1\"))"
   ]
  },
  {
   "cell_type": "markdown",
   "metadata": {
    "application/vnd.databricks.v1+cell": {
     "cellMetadata": {},
     "inputWidgets": {},
     "nuid": "eff325d7-8efe-4a19-a5ec-b5ab241528bc",
     "showTitle": false,
     "title": ""
    }
   },
   "source": [
    "Specify dtype option on import or set low_memory=False. Quando colocamos low_memory=False, estamos utilizando todos os recursos de memória, para o pandas poder jogas o dataframe em memória. Recebi esse Warning, pois optei por não colocar a low_memory=true. No entenato isso não me impediu de carregar a base dados."
   ]
  },
  {
   "cell_type": "markdown",
   "metadata": {
    "application/vnd.databricks.v1+cell": {
     "cellMetadata": {},
     "inputWidgets": {},
     "nuid": "37127538-080c-47ea-ad1c-3e6e8640f337",
     "showTitle": false,
     "title": ""
    }
   },
   "source": [
    "__________________________________________________________________________________________________________________________________________________________"
   ]
  },
  {
   "cell_type": "markdown",
   "metadata": {
    "application/vnd.databricks.v1+cell": {
     "cellMetadata": {},
     "inputWidgets": {},
     "nuid": "5d52c04e-8a84-4ba3-86ba-bd5aa5ffa272",
     "showTitle": false,
     "title": ""
    }
   },
   "source": [
    "Abaixo foi criado da tabela física no databricks, é uma forma de persistir os dados no databricks, embora tenha criado também uma tabela temporária, com a qual decidi trabalhar, depois de ter tido vários desafios com o arquivo inicial carregado no databricks."
   ]
  },
  {
   "cell_type": "code",
   "execution_count": 0,
   "metadata": {
    "application/vnd.databricks.v1+cell": {
     "cellMetadata": {
      "byteLimit": 2048000,
      "rowLimit": 10000
     },
     "inputWidgets": {},
     "nuid": "559c20b8-0631-46fe-92cd-7f3ec29d4e95",
     "showTitle": false,
     "title": ""
    }
   },
   "outputs": [],
   "source": [
    "df.write.mode(\"overwrite\").saveAsTable(\"enem\")"
   ]
  },
  {
   "cell_type": "markdown",
   "metadata": {
    "application/vnd.databricks.v1+cell": {
     "cellMetadata": {},
     "inputWidgets": {},
     "nuid": "b3a421cd-ffd4-4daf-844b-62b4faddd474",
     "showTitle": false,
     "title": ""
    }
   },
   "source": [
    "Abaixo é possível visualizar a tabela, objeto de pesquisa, base de dados o dataset em si."
   ]
  },
  {
   "cell_type": "code",
   "execution_count": 0,
   "metadata": {
    "application/vnd.databricks.v1+cell": {
     "cellMetadata": {
      "byteLimit": 2048000,
      "implicitDf": true,
      "rowLimit": 10000
     },
     "inputWidgets": {},
     "nuid": "08fe46e8-388e-4fd3-814f-9150f9ecbf5e",
     "showTitle": false,
     "title": ""
    }
   },
   "outputs": [
    {
     "output_type": "display_data",
     "data": {
      "text/html": [
       "<style scoped>\n",
       "  .table-result-container {\n",
       "    max-height: 300px;\n",
       "    overflow: auto;\n",
       "  }\n",
       "  table, th, td {\n",
       "    border: 1px solid black;\n",
       "    border-collapse: collapse;\n",
       "  }\n",
       "  th, td {\n",
       "    padding: 5px;\n",
       "  }\n",
       "  th {\n",
       "    text-align: left;\n",
       "  }\n",
       "</style><div class='table-result-container'><table class='table-result'><thead style='background-color: white'><tr><th>NU_ANO</th><th>CO_UF_ESCOLA</th><th>SG_UF_ESCOLA</th><th>CO_MUNICIPIO_ESCOLA</th><th>NO_MUNICIPIO_ESCOLA</th><th>CO_ESCOLA_EDUCACENSO</th><th>NO_ESCOLA_EDUCACENSO</th><th>TP_DEPENDENCIA_ADM_ESCOLA</th><th>TP_LOCALIZACAO_ESCOLA</th><th>NU_MATRICULAS</th><th>NU_PARTICIPANTES_NEC_ESP</th><th>NU_PARTICIPANTES</th><th>NU_TAXA_PARTICIPACAO</th><th>NU_MEDIA_CN</th><th>NU_MEDIA_CH</th><th>NU_MEDIA_LP</th><th>NU_MEDIA_MT</th><th>NU_MEDIA_RED</th><th>NU_MEDIA_OBJ</th><th>NU_MEDIA_TOT</th><th>INSE</th><th>PC_FORMACAO_DOCENTE</th><th>NU_TAXA_PERMANENCIA</th><th>NU_TAXA_APROVACAO</th><th>NU_TAXA_REPROVACAO</th><th>NU_TAXA_ABANDONO</th><th>PORTE_ESCOLA</th></tr></thead><tbody><tr><td>2007</td><td>11</td><td>RO</td><td>1100205</td><td>Porto Velho</td><td>11000058</td><td>CENTRO DE ENSINO CLASSE A</td><td>4</td><td>1</td><td>144</td><td>null</td><td>140</td><td>null</td><td>null</td><td>null</td><td>null</td><td>null</td><td>null</td><td>null</td><td>69.03</td><td>null</td><td>null</td><td>null</td><td>91.9</td><td>8.1</td><td>0.0</td><td>Maior que 90 alunos</td></tr><tr><td>2006</td><td>11</td><td>RO</td><td>1100205</td><td>Porto Velho</td><td>11000058</td><td>CENTRO DE ENSINO CLASSE A</td><td>4</td><td>1</td><td>184</td><td>null</td><td>139</td><td>null</td><td>null</td><td>null</td><td>null</td><td>null</td><td>null</td><td>null</td><td>57.82</td><td>null</td><td>null</td><td>null</td><td>null</td><td>null</td><td>null</td><td>Maior que 90 alunos</td></tr><tr><td>2005</td><td>11</td><td>RO</td><td>1100205</td><td>Porto Velho</td><td>11000058</td><td>CENTRO DE ENSINO CLASSE A</td><td>4</td><td>1</td><td>220</td><td>null</td><td>145</td><td>null</td><td>null</td><td>null</td><td>null</td><td>null</td><td>null</td><td>null</td><td>64.83</td><td>null</td><td>null</td><td>null</td><td>86.5</td><td>12.4</td><td>1.1</td><td>Maior que 90 alunos</td></tr><tr><td>2008</td><td>11</td><td>RO</td><td>1100205</td><td>Porto Velho</td><td>11000058</td><td>CENTRO DE ENSINO CLASSE A</td><td>4</td><td>1</td><td>186</td><td>null</td><td>171</td><td>null</td><td>null</td><td>null</td><td>null</td><td>null</td><td>72.16</td><td>60.02</td><td>null</td><td>null</td><td>null</td><td>null</td><td>90.3</td><td>9.7</td><td>0.0</td><td>Maior que 90 alunos</td></tr><tr><td>2007</td><td>11</td><td>RO</td><td>1100205</td><td>Porto Velho</td><td>11000171</td><td>CENTRO EDUCACIONAL MOJUCA</td><td>4</td><td>1</td><td>19</td><td>null</td><td>12</td><td>null</td><td>null</td><td>null</td><td>null</td><td>null</td><td>null</td><td>null</td><td>58.84</td><td>null</td><td>null</td><td>null</td><td>74.2</td><td>21.0</td><td>4.8</td><td>De 1 a 30 alunos</td></tr><tr><td>2008</td><td>11</td><td>RO</td><td>1100205</td><td>Porto Velho</td><td>11000171</td><td>CENTRO EDUCACIONAL MOJUCA</td><td>4</td><td>1</td><td>33</td><td>null</td><td>13</td><td>null</td><td>null</td><td>null</td><td>null</td><td>null</td><td>59.81</td><td>42.49</td><td>null</td><td>null</td><td>null</td><td>null</td><td>79.1</td><td>17.9</td><td>3.0</td><td>De 31 a 60 alunos</td></tr><tr><td>2005</td><td>11</td><td>RO</td><td>1100205</td><td>Porto Velho</td><td>11000171</td><td>CENTRO EDUCACIONAL MOJUCA</td><td>4</td><td>1</td><td>25</td><td>null</td><td>10</td><td>null</td><td>null</td><td>null</td><td>null</td><td>null</td><td>null</td><td>null</td><td>35.44</td><td>null</td><td>null</td><td>null</td><td>69.3</td><td>25.0</td><td>5.7</td><td>De 1 a 30 alunos</td></tr><tr><td>2005</td><td>11</td><td>RO</td><td>1100205</td><td>Porto Velho</td><td>11000180</td><td>INTERATIVO  CURSOS E COLEGIO</td><td>4</td><td>1</td><td>87</td><td>null</td><td>29</td><td>null</td><td>null</td><td>null</td><td>null</td><td>null</td><td>null</td><td>null</td><td>48.46</td><td>null</td><td>null</td><td>null</td><td>86.5</td><td>13.5</td><td>0.0</td><td>De 61 a 90 alunos</td></tr><tr><td>2006</td><td>11</td><td>RO</td><td>1100205</td><td>Porto Velho</td><td>11000180</td><td>INTERATIVO  CURSOS E COLEGIO</td><td>4</td><td>1</td><td>82</td><td>null</td><td>32</td><td>null</td><td>null</td><td>null</td><td>null</td><td>null</td><td>null</td><td>null</td><td>43.73</td><td>null</td><td>null</td><td>null</td><td>null</td><td>null</td><td>null</td><td>De 61 a 90 alunos</td></tr><tr><td>2008</td><td>11</td><td>RO</td><td>1100205</td><td>Porto Velho</td><td>11000180</td><td>INTERAÇÃO - CURSOS E COLÉGIO</td><td>4</td><td>1</td><td>31</td><td>null</td><td>11</td><td>null</td><td>null</td><td>null</td><td>null</td><td>null</td><td>59.55</td><td>45.6</td><td>null</td><td>null</td><td>null</td><td>null</td><td>90.8</td><td>9.2</td><td>0.0</td><td>De 31 a 60 alunos</td></tr></tbody></table></div>"
      ]
     },
     "metadata": {
      "application/vnd.databricks.v1+output": {
       "addedWidgets": {},
       "aggData": [],
       "aggError": "",
       "aggOverflow": false,
       "aggSchema": [],
       "aggSeriesLimitReached": false,
       "aggType": "",
       "arguments": {},
       "columnCustomDisplayInfos": {},
       "data": [
        [
         2007,
         11,
         "RO",
         1100205,
         "Porto Velho",
         11000058,
         "CENTRO DE ENSINO CLASSE A",
         4,
         1,
         144,
         null,
         140,
         null,
         null,
         null,
         null,
         null,
         null,
         null,
         69.03,
         null,
         null,
         null,
         91.9,
         8.1,
         0.0,
         "Maior que 90 alunos"
        ],
        [
         2006,
         11,
         "RO",
         1100205,
         "Porto Velho",
         11000058,
         "CENTRO DE ENSINO CLASSE A",
         4,
         1,
         184,
         null,
         139,
         null,
         null,
         null,
         null,
         null,
         null,
         null,
         57.82,
         null,
         null,
         null,
         null,
         null,
         null,
         "Maior que 90 alunos"
        ],
        [
         2005,
         11,
         "RO",
         1100205,
         "Porto Velho",
         11000058,
         "CENTRO DE ENSINO CLASSE A",
         4,
         1,
         220,
         null,
         145,
         null,
         null,
         null,
         null,
         null,
         null,
         null,
         64.83,
         null,
         null,
         null,
         86.5,
         12.4,
         1.1,
         "Maior que 90 alunos"
        ],
        [
         2008,
         11,
         "RO",
         1100205,
         "Porto Velho",
         11000058,
         "CENTRO DE ENSINO CLASSE A",
         4,
         1,
         186,
         null,
         171,
         null,
         null,
         null,
         null,
         null,
         72.16,
         60.02,
         null,
         null,
         null,
         null,
         90.3,
         9.7,
         0.0,
         "Maior que 90 alunos"
        ],
        [
         2007,
         11,
         "RO",
         1100205,
         "Porto Velho",
         11000171,
         "CENTRO EDUCACIONAL MOJUCA",
         4,
         1,
         19,
         null,
         12,
         null,
         null,
         null,
         null,
         null,
         null,
         null,
         58.84,
         null,
         null,
         null,
         74.2,
         21.0,
         4.8,
         "De 1 a 30 alunos"
        ],
        [
         2008,
         11,
         "RO",
         1100205,
         "Porto Velho",
         11000171,
         "CENTRO EDUCACIONAL MOJUCA",
         4,
         1,
         33,
         null,
         13,
         null,
         null,
         null,
         null,
         null,
         59.81,
         42.49,
         null,
         null,
         null,
         null,
         79.1,
         17.9,
         3.0,
         "De 31 a 60 alunos"
        ],
        [
         2005,
         11,
         "RO",
         1100205,
         "Porto Velho",
         11000171,
         "CENTRO EDUCACIONAL MOJUCA",
         4,
         1,
         25,
         null,
         10,
         null,
         null,
         null,
         null,
         null,
         null,
         null,
         35.44,
         null,
         null,
         null,
         69.3,
         25.0,
         5.7,
         "De 1 a 30 alunos"
        ],
        [
         2005,
         11,
         "RO",
         1100205,
         "Porto Velho",
         11000180,
         "INTERATIVO  CURSOS E COLEGIO",
         4,
         1,
         87,
         null,
         29,
         null,
         null,
         null,
         null,
         null,
         null,
         null,
         48.46,
         null,
         null,
         null,
         86.5,
         13.5,
         0.0,
         "De 61 a 90 alunos"
        ],
        [
         2006,
         11,
         "RO",
         1100205,
         "Porto Velho",
         11000180,
         "INTERATIVO  CURSOS E COLEGIO",
         4,
         1,
         82,
         null,
         32,
         null,
         null,
         null,
         null,
         null,
         null,
         null,
         43.73,
         null,
         null,
         null,
         null,
         null,
         null,
         "De 61 a 90 alunos"
        ],
        [
         2008,
         11,
         "RO",
         1100205,
         "Porto Velho",
         11000180,
         "INTERAÇÃO - CURSOS E COLÉGIO",
         4,
         1,
         31,
         null,
         11,
         null,
         null,
         null,
         null,
         null,
         59.55,
         45.6,
         null,
         null,
         null,
         null,
         90.8,
         9.2,
         0.0,
         "De 31 a 60 alunos"
        ]
       ],
       "datasetInfos": [],
       "dbfsResultPath": null,
       "isJsonSchema": true,
       "metadata": {
        "dataframeName": "_sqldf",
        "executionCount": 4
       },
       "overflow": false,
       "plotOptions": {
        "customPlotOptions": {},
        "displayType": "table",
        "pivotAggregation": null,
        "pivotColumns": null,
        "xColumns": null,
        "yColumns": null
       },
       "removedWidgets": [],
       "schema": [
        {
         "metadata": "{}",
         "name": "NU_ANO",
         "type": "\"long\""
        },
        {
         "metadata": "{}",
         "name": "CO_UF_ESCOLA",
         "type": "\"long\""
        },
        {
         "metadata": "{}",
         "name": "SG_UF_ESCOLA",
         "type": "\"string\""
        },
        {
         "metadata": "{}",
         "name": "CO_MUNICIPIO_ESCOLA",
         "type": "\"long\""
        },
        {
         "metadata": "{}",
         "name": "NO_MUNICIPIO_ESCOLA",
         "type": "\"string\""
        },
        {
         "metadata": "{}",
         "name": "CO_ESCOLA_EDUCACENSO",
         "type": "\"long\""
        },
        {
         "metadata": "{}",
         "name": "NO_ESCOLA_EDUCACENSO",
         "type": "\"string\""
        },
        {
         "metadata": "{}",
         "name": "TP_DEPENDENCIA_ADM_ESCOLA",
         "type": "\"long\""
        },
        {
         "metadata": "{}",
         "name": "TP_LOCALIZACAO_ESCOLA",
         "type": "\"long\""
        },
        {
         "metadata": "{}",
         "name": "NU_MATRICULAS",
         "type": "\"long\""
        },
        {
         "metadata": "{}",
         "name": "NU_PARTICIPANTES_NEC_ESP",
         "type": "\"double\""
        },
        {
         "metadata": "{}",
         "name": "NU_PARTICIPANTES",
         "type": "\"long\""
        },
        {
         "metadata": "{}",
         "name": "NU_TAXA_PARTICIPACAO",
         "type": "\"double\""
        },
        {
         "metadata": "{}",
         "name": "NU_MEDIA_CN",
         "type": "\"double\""
        },
        {
         "metadata": "{}",
         "name": "NU_MEDIA_CH",
         "type": "\"double\""
        },
        {
         "metadata": "{}",
         "name": "NU_MEDIA_LP",
         "type": "\"double\""
        },
        {
         "metadata": "{}",
         "name": "NU_MEDIA_MT",
         "type": "\"double\""
        },
        {
         "metadata": "{}",
         "name": "NU_MEDIA_RED",
         "type": "\"double\""
        },
        {
         "metadata": "{}",
         "name": "NU_MEDIA_OBJ",
         "type": "\"double\""
        },
        {
         "metadata": "{}",
         "name": "NU_MEDIA_TOT",
         "type": "\"double\""
        },
        {
         "metadata": "{}",
         "name": "INSE",
         "type": "\"string\""
        },
        {
         "metadata": "{}",
         "name": "PC_FORMACAO_DOCENTE",
         "type": "\"double\""
        },
        {
         "metadata": "{}",
         "name": "NU_TAXA_PERMANENCIA",
         "type": "\"double\""
        },
        {
         "metadata": "{}",
         "name": "NU_TAXA_APROVACAO",
         "type": "\"double\""
        },
        {
         "metadata": "{}",
         "name": "NU_TAXA_REPROVACAO",
         "type": "\"double\""
        },
        {
         "metadata": "{}",
         "name": "NU_TAXA_ABANDONO",
         "type": "\"double\""
        },
        {
         "metadata": "{}",
         "name": "PORTE_ESCOLA",
         "type": "\"string\""
        }
       ],
       "type": "table"
      }
     },
     "output_type": "display_data"
    }
   ],
   "source": [
    "%sql\n",
    "SELECT * FROM enem LIMIT 10"
   ]
  },
  {
   "cell_type": "markdown",
   "metadata": {
    "application/vnd.databricks.v1+cell": {
     "cellMetadata": {
      "byteLimit": 2048000,
      "rowLimit": 10000
     },
     "inputWidgets": {},
     "nuid": "868148a8-30ca-41b1-a12b-c1ce9649e8ed",
     "showTitle": false,
     "title": ""
    }
   },
   "source": [
    "_______________________________________________________________________________________________________________________________________"
   ]
  },
  {
   "cell_type": "markdown",
   "metadata": {
    "application/vnd.databricks.v1+cell": {
     "cellMetadata": {},
     "inputWidgets": {},
     "nuid": "1cffe6d3-25a0-4e31-bd33-0eb007b5e13b",
     "showTitle": false,
     "title": ""
    }
   },
   "source": [
    "Abaixo foi criado a tabela temporária, por onde executei as pesquisas, depois de muitos erros encontrados com o arquivo carregado no databricks e mesmo criando uma tabela, optei por usar uma tabela temporária, que atendeu as necessidades de pesquisa."
   ]
  },
  {
   "cell_type": "code",
   "execution_count": 0,
   "metadata": {
    "application/vnd.databricks.v1+cell": {
     "cellMetadata": {
      "byteLimit": 2048000,
      "rowLimit": 10000
     },
     "inputWidgets": {},
     "nuid": "0414bd2b-14d7-4b0e-a228-406fc995fdea",
     "showTitle": false,
     "title": ""
    }
   },
   "outputs": [],
   "source": [
    "df.createOrReplaceTempView(\"tbl_enem\")"
   ]
  },
  {
   "cell_type": "markdown",
   "metadata": {
    "application/vnd.databricks.v1+cell": {
     "cellMetadata": {
      "byteLimit": 2048000,
      "rowLimit": 10000
     },
     "inputWidgets": {},
     "nuid": "29439b40-e097-4e3d-94a5-a044fcd51886",
     "showTitle": false,
     "title": ""
    }
   },
   "source": [
    "____________________________________________________________________________________________________________________________"
   ]
  },
  {
   "cell_type": "markdown",
   "metadata": {
    "application/vnd.databricks.v1+cell": {
     "cellMetadata": {
      "byteLimit": 2048000,
      "rowLimit": 10000
     },
     "inputWidgets": {},
     "nuid": "5d555af8-8ffd-41a9-9050-2c64e1b6749b",
     "showTitle": false,
     "title": ""
    }
   },
   "source": [
    "Tentei normalizar os dados, retirando as linhas nulas, no entanto alguns dos atributos não possuem dados históricos, como é o caso da média total no Enem que só possui informações nos anos de 2005, 2006 e 2007, então retirar as linhas nulas prejuducaria a conteúdo do dataset de forma geral.\n",
    "\n",
    "A tabela com as informações do ENEM por ecolas já veio pronta, então não foi necessário executar essa etapa de modelagem porque o arquivo é flat (desnormalizado), não sendo necessário realizar a modelagem Estrela ou Snowflake, pois já tenho todos os dados e colunas que são necessárias para a utlização do dataset. "
   ]
  },
  {
   "cell_type": "markdown",
   "metadata": {
    "application/vnd.databricks.v1+cell": {
     "cellMetadata": {
      "byteLimit": 2048000,
      "rowLimit": 10000
     },
     "inputWidgets": {},
     "nuid": "c452c004-fbb4-452b-96c8-796222ee8db0",
     "showTitle": false,
     "title": ""
    }
   },
   "source": [
    "____________________________________________________________________________________________________________________________"
   ]
  },
  {
   "cell_type": "markdown",
   "metadata": {
    "application/vnd.databricks.v1+cell": {
     "cellMetadata": {},
     "inputWidgets": {},
     "nuid": "5b4c849b-dbc0-4bf9-8e1e-de9e6e9fd059",
     "showTitle": false,
     "title": ""
    }
   },
   "source": [
    " Abaixo seguem as perguntas, seguidas do código SQL utilizados para a pesquisa e uma breve análise sobre casa pergunta."
   ]
  },
  {
   "cell_type": "markdown",
   "metadata": {
    "application/vnd.databricks.v1+cell": {
     "cellMetadata": {
      "byteLimit": 2048000,
      "rowLimit": 10000
     },
     "inputWidgets": {},
     "nuid": "bad78436-ae9e-453e-b2c5-3f313656ad08",
     "showTitle": false,
     "title": ""
    }
   },
   "source": [
    "## 1 - As redes escolares administradas por entidades públicas possuem um desempenho melhor ou pior no ENEM, se comparadas a rede de ensino particular?"
   ]
  },
  {
   "cell_type": "code",
   "execution_count": 0,
   "metadata": {
    "application/vnd.databricks.v1+cell": {
     "cellMetadata": {
      "byteLimit": 2048000,
      "implicitDf": true,
      "rowLimit": 10000
     },
     "inputWidgets": {},
     "nuid": "157fca82-b491-45f8-9129-03040577a007",
     "showTitle": false,
     "title": ""
    }
   },
   "outputs": [
    {
     "output_type": "display_data",
     "data": {
      "text/html": [
       "<style scoped>\n",
       "  .table-result-container {\n",
       "    max-height: 300px;\n",
       "    overflow: auto;\n",
       "  }\n",
       "  table, th, td {\n",
       "    border: 1px solid black;\n",
       "    border-collapse: collapse;\n",
       "  }\n",
       "  th, td {\n",
       "    padding: 5px;\n",
       "  }\n",
       "  th {\n",
       "    text-align: left;\n",
       "  }\n",
       "</style><div class='table-result-container'><table class='table-result'><thead style='background-color: white'><tr><th>TP_DEPENDENCIA_ADM_ESCOLA</th><th>media_total</th></tr></thead><tbody><tr><td>Federal</td><td>66.23716981132077</td></tr><tr><td>Privada</td><td>58.4334884604426</td></tr><tr><td>Estadual</td><td>43.64754604388727</td></tr><tr><td>Municipal</td><td>42.92226337448557</td></tr></tbody></table></div>"
      ]
     },
     "metadata": {
      "application/vnd.databricks.v1+output": {
       "addedWidgets": {},
       "aggData": [],
       "aggError": "",
       "aggOverflow": false,
       "aggSchema": [],
       "aggSeriesLimitReached": false,
       "aggType": "",
       "arguments": {},
       "columnCustomDisplayInfos": {},
       "data": [
        [
         "Federal",
         66.23716981132077
        ],
        [
         "Privada",
         58.4334884604426
        ],
        [
         "Estadual",
         43.64754604388727
        ],
        [
         "Municipal",
         42.92226337448557
        ]
       ],
       "datasetInfos": [],
       "dbfsResultPath": null,
       "isJsonSchema": true,
       "metadata": {},
       "overflow": false,
       "plotOptions": {
        "customPlotOptions": {},
        "displayType": "table",
        "pivotAggregation": null,
        "pivotColumns": null,
        "xColumns": null,
        "yColumns": null
       },
       "removedWidgets": [],
       "schema": [
        {
         "metadata": "{}",
         "name": "TP_DEPENDENCIA_ADM_ESCOLA",
         "type": "\"string\""
        },
        {
         "metadata": "{}",
         "name": "media_total",
         "type": "\"double\""
        }
       ],
       "type": "table"
      }
     },
     "output_type": "display_data"
    },
    {
     "output_type": "display_data",
     "data": {
      "text/plain": [
       "Databricks visualization. Run in Databricks to view."
      ]
     },
     "metadata": {
      "application/vnd.databricks.v1.subcommand+json": {
       "baseErrorDetails": null,
       "bindings": {},
       "collapsed": false,
       "command": "%sql WITH q AS (SELECT \n    CASE \n        WHEN TP_DEPENDENCIA_ADM_ESCOLA = 1 THEN 'Federal'\n        WHEN TP_DEPENDENCIA_ADM_ESCOLA = 2 THEN 'Estadual'\n        WHEN TP_DEPENDENCIA_ADM_ESCOLA = 3 THEN 'Municipal'\n        WHEN TP_DEPENDENCIA_ADM_ESCOLA = 4 THEN 'Privada'\n        ELSE 'Desconhecido'\n    END AS TP_DEPENDENCIA_ADM_ESCOLA,\n    AVG(NU_MEDIA_TOT) AS media_total\nFROM \n    tbl_enem\nGROUP BY \n    TP_DEPENDENCIA_ADM_ESCOLA\nORDER BY \n    media_total DESC) SELECT `TP_DEPENDENCIA_ADM_ESCOLA`,SUM(`media_total`) `column_4a75851625` FROM q GROUP BY `TP_DEPENDENCIA_ADM_ESCOLA`",
       "commandTitle": "Visualização 1",
       "commandType": "auto",
       "commandVersion": 0,
       "commentThread": [],
       "commentsVisible": false,
       "contentSha256Hex": null,
       "customPlotOptions": {
        "redashChart": [
         {
          "key": "type",
          "value": "CHART"
         },
         {
          "key": "options",
          "value": {
           "alignYAxesAtZero": true,
           "coefficient": 1,
           "columnConfigurationMap": {
            "x": {
             "column": "TP_DEPENDENCIA_ADM_ESCOLA",
             "id": "column_4a75851624"
            },
            "y": [
             {
              "column": "media_total",
              "id": "column_4a75851625",
              "transform": "SUM"
             }
            ]
           },
           "dateTimeFormat": "DD/MM/YYYY HH:mm",
           "direction": {
            "type": "counterclockwise"
           },
           "error_y": {
            "type": "data",
            "visible": true
           },
           "globalSeriesType": "pie",
           "legend": {
            "traceorder": "normal"
           },
           "missingValuesAsZero": true,
           "numberFormat": "0,0.[00000]",
           "percentFormat": "0[.]00%",
           "series": {
            "error_y": {
             "type": "data",
             "visible": true
            },
            "stacking": null
           },
           "seriesOptions": {
            "column_4a75851625": {
             "name": "media_total",
             "type": "pie",
             "yAxis": 0
            }
           },
           "showDataLabels": true,
           "sizemode": "diameter",
           "sortX": true,
           "sortY": true,
           "swappedAxes": false,
           "textFormat": "",
           "useAggregationsUi": true,
           "valuesOptions": {},
           "version": 2,
           "xAxis": {
            "labels": {
             "enabled": true
            },
            "type": "-"
           },
           "yAxis": [
            {
             "type": "-"
            },
            {
             "opposite": true,
             "type": "-"
            }
           ]
          }
         }
        ]
       },
       "datasetPreviewNameToCmdIdMap": {},
       "diffDeletes": [],
       "diffInserts": [],
       "displayType": "redashChart",
       "error": null,
       "errorDetails": null,
       "errorSummary": null,
       "errorTraceType": null,
       "finishTime": 0,
       "globalVars": {},
       "guid": "",
       "height": "auto",
       "hideCommandCode": false,
       "hideCommandResult": false,
       "iPythonMetadata": null,
       "inputWidgets": {},
       "isLockedInExamMode": false,
       "latestUser": "a user",
       "latestUserId": null,
       "listResultMetadata": null,
       "metadata": {
        "byteLimit": 2048000,
        "implicitDf": true,
        "rowLimit": 10000
       },
       "nuid": "bee82b82-04cf-47e4-accc-c6f9e966b1bc",
       "origId": 0,
       "parentHierarchy": [],
       "pivotAggregation": null,
       "pivotColumns": null,
       "position": 5.0166015625,
       "resultDbfsErrorMessage": null,
       "resultDbfsStatus": "INLINED_IN_TREE",
       "results": null,
       "showCommandTitle": false,
       "startTime": 0,
       "state": "input",
       "streamStates": {},
       "subcommandOptions": {
        "queryPlan": {
         "groups": [
          {
           "column": "TP_DEPENDENCIA_ADM_ESCOLA",
           "type": "column"
          }
         ],
         "selects": [
          {
           "column": "TP_DEPENDENCIA_ADM_ESCOLA",
           "type": "column"
          },
          {
           "alias": "column_4a75851625",
           "args": [
            {
             "column": "media_total",
             "type": "column"
            }
           ],
           "function": "SUM",
           "type": "function"
          }
         ]
        }
       },
       "submitTime": 0,
       "subtype": "tableResultSubCmd.visualization",
       "tableResultIndex": 0,
       "useConsistentColors": false,
       "version": "CommandV1",
       "width": "auto",
       "workflows": [],
       "xColumns": null,
       "yColumns": null
      }
     },
     "output_type": "display_data"
    }
   ],
   "source": [
    "%sql\n",
    "SELECT \n",
    "    CASE \n",
    "        WHEN TP_DEPENDENCIA_ADM_ESCOLA = 1 THEN 'Federal'\n",
    "        WHEN TP_DEPENDENCIA_ADM_ESCOLA = 2 THEN 'Estadual'\n",
    "        WHEN TP_DEPENDENCIA_ADM_ESCOLA = 3 THEN 'Municipal'\n",
    "        WHEN TP_DEPENDENCIA_ADM_ESCOLA = 4 THEN 'Privada'\n",
    "        ELSE 'Desconhecido'\n",
    "    END AS TP_DEPENDENCIA_ADM_ESCOLA,\n",
    "    AVG(NU_MEDIA_TOT) AS media_total\n",
    "FROM \n",
    "    tbl_enem\n",
    "GROUP BY \n",
    "    TP_DEPENDENCIA_ADM_ESCOLA\n",
    "ORDER BY \n",
    "    media_total DESC;\n"
   ]
  },
  {
   "cell_type": "markdown",
   "metadata": {
    "application/vnd.databricks.v1+cell": {
     "cellMetadata": {
      "byteLimit": 2048000,
      "rowLimit": 10000
     },
     "inputWidgets": {},
     "nuid": "b8d181b0-c4b0-41ae-93d7-3e7b42514fb7",
     "showTitle": false,
     "title": ""
    }
   },
   "source": [
    "O código faz a média de cada tipo de entidade de que adminstra as escolas e nomeia em federal, estadual, municipal e privada, além de ordenar de acordo com os resultados do melhor desempenho para o menor.\n",
    "\n",
    "Entendemos, através da análise que as redes de ensino administradas por entidades federais apresentam um melhor desempenho 31,4%, seguidas pelas redes de ensino particulares 27,7%, estaduais 20,7% e, por último, municipais 20,3%."
   ]
  },
  {
   "cell_type": "markdown",
   "metadata": {
    "application/vnd.databricks.v1+cell": {
     "cellMetadata": {
      "byteLimit": 2048000,
      "rowLimit": 10000
     },
     "inputWidgets": {},
     "nuid": "c98cf2df-21d3-46d5-880f-581c8292055b",
     "showTitle": false,
     "title": ""
    }
   },
   "source": [
    "____________________________________________________________________________________________________________________________"
   ]
  },
  {
   "cell_type": "markdown",
   "metadata": {
    "application/vnd.databricks.v1+cell": {
     "cellMetadata": {
      "byteLimit": 2048000,
      "rowLimit": 10000
     },
     "inputWidgets": {},
     "nuid": "c7c518ae-2a1a-4365-9f63-ba94a8f9a5c0",
     "showTitle": false,
     "title": ""
    }
   },
   "source": [
    "## 2 - Quais são os estados com o melhor e o pior desempenho no ENEM?"
   ]
  },
  {
   "cell_type": "code",
   "execution_count": 0,
   "metadata": {
    "application/vnd.databricks.v1+cell": {
     "cellMetadata": {
      "byteLimit": 2048000,
      "implicitDf": true,
      "rowLimit": 10000
     },
     "inputWidgets": {},
     "nuid": "28fb80cd-c07e-4bb3-b847-0f609e9c5902",
     "showTitle": false,
     "title": ""
    }
   },
   "outputs": [
    {
     "output_type": "display_data",
     "data": {
      "text/html": [
       "<style scoped>\n",
       "  .table-result-container {\n",
       "    max-height: 300px;\n",
       "    overflow: auto;\n",
       "  }\n",
       "  table, th, td {\n",
       "    border: 1px solid black;\n",
       "    border-collapse: collapse;\n",
       "  }\n",
       "  th, td {\n",
       "    padding: 5px;\n",
       "  }\n",
       "  th {\n",
       "    text-align: left;\n",
       "  }\n",
       "</style><div class='table-result-container'><table class='table-result'><thead style='background-color: white'><tr><th>SG_UF_ESCOLA</th><th>media_total</th></tr></thead><tbody><tr><td>DF</td><td>52.58</td></tr><tr><td>RS</td><td>51.19</td></tr><tr><td>ES</td><td>49.72</td></tr><tr><td>SC</td><td>49.08</td></tr><tr><td>MG</td><td>48.78</td></tr><tr><td>RJ</td><td>48.38</td></tr><tr><td>SP</td><td>48.16</td></tr><tr><td>PR</td><td>47.61</td></tr><tr><td>MS</td><td>47.34</td></tr><tr><td>GO</td><td>46.48</td></tr><tr><td>BA</td><td>44.91</td></tr><tr><td>CE</td><td>44.84</td></tr><tr><td>RO</td><td>44.75</td></tr><tr><td>AC</td><td>44.35</td></tr><tr><td>MT</td><td>44.18</td></tr><tr><td>PE</td><td>43.79</td></tr><tr><td>RN</td><td>43.49</td></tr><tr><td>SE</td><td>43.44</td></tr><tr><td>PB</td><td>43.34</td></tr><tr><td>PA</td><td>43.2</td></tr><tr><td>AP</td><td>43.03</td></tr><tr><td>RR</td><td>42.59</td></tr><tr><td>PI</td><td>42.48</td></tr><tr><td>AL</td><td>41.68</td></tr><tr><td>MA</td><td>41.6</td></tr><tr><td>AM</td><td>41.49</td></tr><tr><td>TO</td><td>40.14</td></tr></tbody></table></div>"
      ]
     },
     "metadata": {
      "application/vnd.databricks.v1+output": {
       "addedWidgets": {},
       "aggData": [],
       "aggError": "",
       "aggOverflow": false,
       "aggSchema": [],
       "aggSeriesLimitReached": false,
       "aggType": "",
       "arguments": {},
       "columnCustomDisplayInfos": {},
       "data": [
        [
         "DF",
         52.58
        ],
        [
         "RS",
         51.19
        ],
        [
         "ES",
         49.72
        ],
        [
         "SC",
         49.08
        ],
        [
         "MG",
         48.78
        ],
        [
         "RJ",
         48.38
        ],
        [
         "SP",
         48.16
        ],
        [
         "PR",
         47.61
        ],
        [
         "MS",
         47.34
        ],
        [
         "GO",
         46.48
        ],
        [
         "BA",
         44.91
        ],
        [
         "CE",
         44.84
        ],
        [
         "RO",
         44.75
        ],
        [
         "AC",
         44.35
        ],
        [
         "MT",
         44.18
        ],
        [
         "PE",
         43.79
        ],
        [
         "RN",
         43.49
        ],
        [
         "SE",
         43.44
        ],
        [
         "PB",
         43.34
        ],
        [
         "PA",
         43.2
        ],
        [
         "AP",
         43.03
        ],
        [
         "RR",
         42.59
        ],
        [
         "PI",
         42.48
        ],
        [
         "AL",
         41.68
        ],
        [
         "MA",
         41.6
        ],
        [
         "AM",
         41.49
        ],
        [
         "TO",
         40.14
        ]
       ],
       "datasetInfos": [],
       "dbfsResultPath": null,
       "isJsonSchema": true,
       "metadata": {},
       "overflow": false,
       "plotOptions": {
        "customPlotOptions": {},
        "displayType": "table",
        "pivotAggregation": null,
        "pivotColumns": null,
        "xColumns": null,
        "yColumns": null
       },
       "removedWidgets": [],
       "schema": [
        {
         "metadata": "{}",
         "name": "SG_UF_ESCOLA",
         "type": "\"string\""
        },
        {
         "metadata": "{}",
         "name": "media_total",
         "type": "\"double\""
        }
       ],
       "type": "table"
      }
     },
     "output_type": "display_data"
    },
    {
     "output_type": "display_data",
     "data": {
      "text/plain": [
       "Databricks visualization. Run in Databricks to view."
      ]
     },
     "metadata": {
      "application/vnd.databricks.v1.subcommand+json": {
       "baseErrorDetails": null,
       "bindings": {},
       "collapsed": false,
       "command": "%sql WITH q AS (SELECT \n    SG_UF_ESCOLA, \n    ROUND(AVG(NU_MEDIA_TOT), 2) AS media_total\nFROM \n    tbl_enem\nGROUP BY \n    SG_UF_ESCOLA\nORDER BY \n    media_total DESC) SELECT `SG_UF_ESCOLA`,MAX(`media_total`) `column_4a7585169` FROM q GROUP BY `SG_UF_ESCOLA`",
       "commandTitle": "Gráfico 1",
       "commandType": "auto",
       "commandVersion": 0,
       "commentThread": [],
       "commentsVisible": false,
       "contentSha256Hex": null,
       "customPlotOptions": {
        "redashChart": [
         {
          "key": "type",
          "value": "CHART"
         },
         {
          "key": "options",
          "value": {
           "alignYAxesAtZero": true,
           "coefficient": 1,
           "columnConfigurationMap": {
            "x": {
             "column": "SG_UF_ESCOLA",
             "id": "column_4a7585168"
            },
            "y": [
             {
              "column": "media_total",
              "id": "column_4a7585169",
              "transform": "MAX"
             }
            ]
           },
           "dateTimeFormat": "DD/MM/YYYY HH:mm",
           "direction": {
            "type": "counterclockwise"
           },
           "error_y": {
            "type": "data",
            "visible": true
           },
           "globalSeriesType": "pie",
           "isAggregationOn": true,
           "legend": {
            "traceorder": "normal"
           },
           "missingValuesAsZero": true,
           "numberFormat": "0,0.[00000]",
           "percentFormat": "0[.]00%",
           "series": {
            "error_y": {
             "type": "data",
             "visible": true
            },
            "stacking": ""
           },
           "seriesOptions": {
            "column_4a7585169": {
             "color": "#E92828",
             "name": "media_total",
             "type": "pie",
             "yAxis": 0
            }
           },
           "showDataLabels": true,
           "sizemode": "diameter",
           "sortX": true,
           "sortY": true,
           "swappedAxes": false,
           "textFormat": "",
           "useAggregationsUi": true,
           "valuesOptions": {},
           "version": 2,
           "xAxis": {
            "labels": {
             "enabled": true
            },
            "type": "-"
           },
           "yAxis": [
            {
             "type": "-"
            },
            {
             "opposite": true,
             "type": "-"
            }
           ]
          }
         }
        ]
       },
       "datasetPreviewNameToCmdIdMap": {},
       "diffDeletes": [],
       "diffInserts": [],
       "displayType": "redashChart",
       "error": null,
       "errorDetails": null,
       "errorSummary": null,
       "errorTraceType": null,
       "finishTime": 0,
       "globalVars": {},
       "guid": "",
       "height": "auto",
       "hideCommandCode": false,
       "hideCommandResult": false,
       "iPythonMetadata": null,
       "inputWidgets": {},
       "isLockedInExamMode": false,
       "latestUser": "a user",
       "latestUserId": null,
       "listResultMetadata": null,
       "metadata": {
        "byteLimit": 2048000,
        "implicitDf": true,
        "rowLimit": 10000
       },
       "nuid": "ce05d49d-f768-4bc8-9f3f-6f7d978fa327",
       "origId": 0,
       "parentHierarchy": [],
       "pivotAggregation": null,
       "pivotColumns": null,
       "position": 5.1484375,
       "resultDbfsErrorMessage": null,
       "resultDbfsStatus": "INLINED_IN_TREE",
       "results": null,
       "showCommandTitle": false,
       "startTime": 0,
       "state": "input",
       "streamStates": {},
       "subcommandOptions": {
        "queryPlan": {
         "groups": [
          {
           "column": "SG_UF_ESCOLA",
           "type": "column"
          }
         ],
         "selects": [
          {
           "column": "SG_UF_ESCOLA",
           "type": "column"
          },
          {
           "alias": "column_4a7585169",
           "args": [
            {
             "column": "media_total",
             "type": "column"
            }
           ],
           "function": "MAX",
           "type": "function"
          }
         ]
        }
       },
       "submitTime": 0,
       "subtype": "tableResultSubCmd.visualization",
       "tableResultIndex": 0,
       "useConsistentColors": false,
       "version": "CommandV1",
       "width": "auto",
       "workflows": [],
       "xColumns": null,
       "yColumns": null
      }
     },
     "output_type": "display_data"
    },
    {
     "output_type": "display_data",
     "data": {
      "text/plain": [
       "Databricks visualization. Run in Databricks to view."
      ]
     },
     "metadata": {
      "application/vnd.databricks.v1.subcommand+json": {
       "baseErrorDetails": null,
       "bindings": {},
       "collapsed": false,
       "command": "%sql WITH q AS (SELECT \n    SG_UF_ESCOLA, \n    ROUND(AVG(NU_MEDIA_TOT), 2) AS media_total\nFROM \n    tbl_enem\nGROUP BY \n    SG_UF_ESCOLA\nORDER BY \n    media_total DESC) SELECT `SG_UF_ESCOLA`,SUM(`media_total`) `column_4a75851613` FROM q GROUP BY `SG_UF_ESCOLA`",
       "commandTitle": "Gráfico 2",
       "commandType": "auto",
       "commandVersion": 0,
       "commentThread": [],
       "commentsVisible": false,
       "contentSha256Hex": null,
       "customPlotOptions": {
        "redashChart": [
         {
          "key": "type",
          "value": "CHART"
         },
         {
          "key": "options",
          "value": {
           "alignYAxesAtZero": true,
           "coefficient": 1,
           "columnConfigurationMap": {
            "x": {
             "column": "SG_UF_ESCOLA",
             "id": "column_4a75851612"
            },
            "y": [
             {
              "column": "media_total",
              "id": "column_4a75851613",
              "transform": "SUM"
             }
            ]
           },
           "dateTimeFormat": "DD/MM/YYYY HH:mm",
           "direction": {
            "type": "counterclockwise"
           },
           "error_y": {
            "type": "data",
            "visible": true
           },
           "globalSeriesType": "line",
           "isAggregationOn": true,
           "legend": {
            "traceorder": "normal"
           },
           "missingValuesAsZero": true,
           "numberFormat": "0,0.[00000]",
           "percentFormat": "0[.]00%",
           "series": {
            "error_y": {
             "type": "data",
             "visible": true
            },
            "stacking": null
           },
           "seriesOptions": {
            "column_4a75851613": {
             "name": "media_total",
             "type": "line",
             "yAxis": 0
            }
           },
           "showDataLabels": false,
           "sizemode": "diameter",
           "sortX": true,
           "sortY": true,
           "swappedAxes": false,
           "textFormat": "",
           "useAggregationsUi": true,
           "valuesOptions": {},
           "version": 2,
           "xAxis": {
            "labels": {
             "enabled": true
            },
            "type": "-"
           },
           "yAxis": [
            {
             "type": "-"
            },
            {
             "opposite": true,
             "type": "-"
            }
           ]
          }
         }
        ]
       },
       "datasetPreviewNameToCmdIdMap": {},
       "diffDeletes": [],
       "diffInserts": [],
       "displayType": "redashChart",
       "error": null,
       "errorDetails": null,
       "errorSummary": null,
       "errorTraceType": null,
       "finishTime": 0,
       "globalVars": {},
       "guid": "",
       "height": "auto",
       "hideCommandCode": false,
       "hideCommandResult": false,
       "iPythonMetadata": null,
       "inputWidgets": {},
       "isLockedInExamMode": false,
       "latestUser": "a user",
       "latestUserId": null,
       "listResultMetadata": null,
       "metadata": {
        "byteLimit": 2048000,
        "implicitDf": true,
        "rowLimit": 10000
       },
       "nuid": "93c50646-d783-4a7c-aefe-e1e9da12ad9f",
       "origId": 0,
       "parentHierarchy": [],
       "pivotAggregation": null,
       "pivotColumns": null,
       "position": 6.1484375,
       "resultDbfsErrorMessage": null,
       "resultDbfsStatus": "INLINED_IN_TREE",
       "results": null,
       "showCommandTitle": false,
       "startTime": 0,
       "state": "input",
       "streamStates": {},
       "subcommandOptions": {
        "queryPlan": {
         "groups": [
          {
           "column": "SG_UF_ESCOLA",
           "type": "column"
          }
         ],
         "selects": [
          {
           "column": "SG_UF_ESCOLA",
           "type": "column"
          },
          {
           "alias": "column_4a75851613",
           "args": [
            {
             "column": "media_total",
             "type": "column"
            }
           ],
           "function": "SUM",
           "type": "function"
          }
         ]
        }
       },
       "submitTime": 0,
       "subtype": "tableResultSubCmd.visualization",
       "tableResultIndex": 0,
       "useConsistentColors": false,
       "version": "CommandV1",
       "width": "auto",
       "workflows": [],
       "xColumns": null,
       "yColumns": null
      }
     },
     "output_type": "display_data"
    }
   ],
   "source": [
    "%sql\n",
    "SELECT \n",
    "    SG_UF_ESCOLA, \n",
    "    ROUND(AVG(NU_MEDIA_TOT), 2) AS media_total\n",
    "FROM \n",
    "    tbl_enem\n",
    "GROUP BY \n",
    "    SG_UF_ESCOLA\n",
    "ORDER BY \n",
    "    media_total DESC;\n",
    "\n"
   ]
  },
  {
   "cell_type": "markdown",
   "metadata": {
    "application/vnd.databricks.v1+cell": {
     "cellMetadata": {},
     "inputWidgets": {},
     "nuid": "e991fd46-977c-4242-a6ce-82dc29989c63",
     "showTitle": false,
     "title": ""
    }
   },
   "source": [
    "O código sql faz a média dos valores de desempenho das escolas e filtra por estado, ranqueado do melhor para o menor resultado.\n",
    "\n",
    "Em ordem pela média total de proficiência, temos Distrito Federal, Rio Grande do Sul, Espírito Santo, Santa Catarina e Minas Gerais. O que significa que não necessariamente possa existir uma correlação geográfica com o desempenho, mas com políticas públicas e incentivos específicos de cada estado e o Distrito Federal que ocupa a primeira posição nesta análise."
   ]
  },
  {
   "cell_type": "markdown",
   "metadata": {
    "application/vnd.databricks.v1+cell": {
     "cellMetadata": {
      "byteLimit": 2048000,
      "rowLimit": 10000
     },
     "inputWidgets": {},
     "nuid": "bca5440a-5f8a-410f-9e45-8664075ddb32",
     "showTitle": false,
     "title": ""
    }
   },
   "source": [
    "____________________________________________________________________________________________________________________________"
   ]
  },
  {
   "cell_type": "markdown",
   "metadata": {
    "application/vnd.databricks.v1+cell": {
     "cellMetadata": {
      "byteLimit": 2048000,
      "rowLimit": 10000
     },
     "inputWidgets": {},
     "nuid": "d5702c80-3558-4eb8-93dc-bfecff32d81c",
     "showTitle": false,
     "title": ""
    }
   },
   "source": [
    "## 3 - Qual é o desempenho da escola no ENEM de acordo com a quantidade de alunos matriculados no último ano do ensino médio?"
   ]
  },
  {
   "cell_type": "code",
   "execution_count": 0,
   "metadata": {
    "application/vnd.databricks.v1+cell": {
     "cellMetadata": {
      "byteLimit": 2048000,
      "implicitDf": true,
      "rowLimit": 10000
     },
     "inputWidgets": {},
     "nuid": "acef4df8-b253-45a3-975a-c37f9e1edbb7",
     "showTitle": false,
     "title": ""
    }
   },
   "outputs": [
    {
     "output_type": "display_data",
     "data": {
      "text/html": [
       "<style scoped>\n",
       "  .table-result-container {\n",
       "    max-height: 300px;\n",
       "    overflow: auto;\n",
       "  }\n",
       "  table, th, td {\n",
       "    border: 1px solid black;\n",
       "    border-collapse: collapse;\n",
       "  }\n",
       "  th, td {\n",
       "    padding: 5px;\n",
       "  }\n",
       "  th {\n",
       "    text-align: left;\n",
       "  }\n",
       "</style><div class='table-result-container'><table class='table-result'><thead style='background-color: white'><tr><th>PORTE_ESCOLA</th><th>media_total</th></tr></thead><tbody><tr><td>De 1 a 30 alunos</td><td>52.62198585231199</td></tr><tr><td>De 31 a 60 alunos</td><td>48.61103343465045</td></tr><tr><td>De 61 a 90 alunos</td><td>46.294432749969445</td></tr><tr><td>Maior que 90 alunos</td><td>45.009424469310375</td></tr></tbody></table></div>"
      ]
     },
     "metadata": {
      "application/vnd.databricks.v1+output": {
       "addedWidgets": {},
       "aggData": [],
       "aggError": "",
       "aggOverflow": false,
       "aggSchema": [],
       "aggSeriesLimitReached": false,
       "aggType": "",
       "arguments": {},
       "columnCustomDisplayInfos": {},
       "data": [
        [
         "De 1 a 30 alunos",
         52.62198585231199
        ],
        [
         "De 31 a 60 alunos",
         48.61103343465045
        ],
        [
         "De 61 a 90 alunos",
         46.294432749969445
        ],
        [
         "Maior que 90 alunos",
         45.009424469310375
        ]
       ],
       "datasetInfos": [],
       "dbfsResultPath": null,
       "isJsonSchema": true,
       "metadata": {},
       "overflow": false,
       "plotOptions": {
        "customPlotOptions": {},
        "displayType": "table",
        "pivotAggregation": null,
        "pivotColumns": null,
        "xColumns": null,
        "yColumns": null
       },
       "removedWidgets": [],
       "schema": [
        {
         "metadata": "{}",
         "name": "PORTE_ESCOLA",
         "type": "\"string\""
        },
        {
         "metadata": "{}",
         "name": "media_total",
         "type": "\"double\""
        }
       ],
       "type": "table"
      }
     },
     "output_type": "display_data"
    },
    {
     "output_type": "display_data",
     "data": {
      "text/plain": [
       "Databricks visualization. Run in Databricks to view."
      ]
     },
     "metadata": {
      "application/vnd.databricks.v1.subcommand+json": {
       "baseErrorDetails": null,
       "bindings": {},
       "collapsed": false,
       "command": "%sql WITH q AS (SELECT \n    PORTE_ESCOLA, \n    AVG(NU_MEDIA_TOT) AS media_total\nFROM \n    tbl_enem\nGROUP BY \n    PORTE_ESCOLA\nORDER BY \n    media_total DESC) SELECT `PORTE_ESCOLA`,SUM(`media_total`) `column_4a75851628` FROM q GROUP BY `PORTE_ESCOLA`",
       "commandTitle": "Visualização 1",
       "commandType": "auto",
       "commandVersion": 0,
       "commentThread": [],
       "commentsVisible": false,
       "contentSha256Hex": null,
       "customPlotOptions": {
        "redashChart": [
         {
          "key": "type",
          "value": "CHART"
         },
         {
          "key": "options",
          "value": {
           "alignYAxesAtZero": true,
           "coefficient": 1,
           "columnConfigurationMap": {
            "x": {
             "column": "PORTE_ESCOLA",
             "id": "column_4a75851627"
            },
            "y": [
             {
              "column": "media_total",
              "id": "column_4a75851628",
              "transform": "SUM"
             }
            ]
           },
           "dateTimeFormat": "DD/MM/YYYY HH:mm",
           "direction": {
            "type": "counterclockwise"
           },
           "error_y": {
            "type": "data",
            "visible": true
           },
           "globalSeriesType": "line",
           "isAggregationOn": true,
           "legend": {
            "traceorder": "normal"
           },
           "missingValuesAsZero": true,
           "numberFormat": "0,0.[00000]",
           "percentFormat": "0[.]00%",
           "series": {
            "error_y": {
             "type": "data",
             "visible": true
            },
            "stacking": null
           },
           "seriesOptions": {
            "column_4a75851628": {
             "name": "media_total",
             "type": "line",
             "yAxis": 0
            }
           },
           "showDataLabels": false,
           "sizemode": "diameter",
           "sortX": true,
           "sortY": true,
           "swappedAxes": false,
           "textFormat": "",
           "useAggregationsUi": true,
           "valuesOptions": {},
           "version": 2,
           "xAxis": {
            "labels": {
             "enabled": true
            },
            "type": "-"
           },
           "yAxis": [
            {
             "type": "-"
            },
            {
             "opposite": true,
             "type": "-"
            }
           ]
          }
         }
        ]
       },
       "datasetPreviewNameToCmdIdMap": {},
       "diffDeletes": [],
       "diffInserts": [],
       "displayType": "redashChart",
       "error": null,
       "errorDetails": null,
       "errorSummary": null,
       "errorTraceType": null,
       "finishTime": 0,
       "globalVars": {},
       "guid": "",
       "height": "auto",
       "hideCommandCode": false,
       "hideCommandResult": false,
       "iPythonMetadata": null,
       "inputWidgets": {},
       "isLockedInExamMode": false,
       "latestUser": "a user",
       "latestUserId": null,
       "listResultMetadata": null,
       "metadata": {
        "byteLimit": 2048000,
        "implicitDf": true,
        "rowLimit": 10000
       },
       "nuid": "23cda8d5-292d-4954-b32b-e7b9dcad9234",
       "origId": 0,
       "parentHierarchy": [],
       "pivotAggregation": null,
       "pivotColumns": null,
       "position": 5.16015625,
       "resultDbfsErrorMessage": null,
       "resultDbfsStatus": "INLINED_IN_TREE",
       "results": null,
       "showCommandTitle": false,
       "startTime": 0,
       "state": "input",
       "streamStates": {},
       "subcommandOptions": {
        "queryPlan": {
         "groups": [
          {
           "column": "PORTE_ESCOLA",
           "type": "column"
          }
         ],
         "selects": [
          {
           "column": "PORTE_ESCOLA",
           "type": "column"
          },
          {
           "alias": "column_4a75851628",
           "args": [
            {
             "column": "media_total",
             "type": "column"
            }
           ],
           "function": "SUM",
           "type": "function"
          }
         ]
        }
       },
       "submitTime": 0,
       "subtype": "tableResultSubCmd.visualization",
       "tableResultIndex": 0,
       "useConsistentColors": false,
       "version": "CommandV1",
       "width": "auto",
       "workflows": [],
       "xColumns": null,
       "yColumns": null
      }
     },
     "output_type": "display_data"
    }
   ],
   "source": [
    "%sql\n",
    "SELECT \n",
    "    PORTE_ESCOLA, \n",
    "    AVG(NU_MEDIA_TOT) AS media_total\n",
    "FROM \n",
    "    tbl_enem\n",
    "GROUP BY \n",
    "    PORTE_ESCOLA\n",
    "ORDER BY \n",
    "    media_total DESC;"
   ]
  },
  {
   "cell_type": "markdown",
   "metadata": {
    "application/vnd.databricks.v1+cell": {
     "cellMetadata": {},
     "inputWidgets": {},
     "nuid": "7cf99884-88e1-4bd6-b8fa-dc6ec88867a3",
     "showTitle": false,
     "title": ""
    }
   },
   "source": [
    "%md\n",
    "O código sql pega as informações da média total e organiza de acordo a quantidade de alunos matriculados no último ano do ensino médio.\n",
    "\n",
    "Pode existir uma relação entre quantidade de alunos por turma e a qualidade do desempenho. Segundo a análise feita, quanto menor a quantidade de alunos, melhor é o desempenho no ENEM."
   ]
  },
  {
   "cell_type": "markdown",
   "metadata": {
    "application/vnd.databricks.v1+cell": {
     "cellMetadata": {
      "byteLimit": 2048000,
      "rowLimit": 10000
     },
     "inputWidgets": {},
     "nuid": "e97f1bf6-8c47-4b5d-8976-4e347b56fba3",
     "showTitle": false,
     "title": ""
    }
   },
   "source": [
    "____________________________________________________________________________________________________________________________"
   ]
  },
  {
   "cell_type": "markdown",
   "metadata": {
    "application/vnd.databricks.v1+cell": {
     "cellMetadata": {
      "byteLimit": 2048000,
      "rowLimit": 10000
     },
     "inputWidgets": {},
     "nuid": "df79b3eb-0f97-43d0-8e8a-05ef307a6228",
     "showTitle": false,
     "title": ""
    }
   },
   "source": [
    "## 4 - Taxa de abandono de acordo com o porte da escola."
   ]
  },
  {
   "cell_type": "code",
   "execution_count": 0,
   "metadata": {
    "application/vnd.databricks.v1+cell": {
     "cellMetadata": {
      "byteLimit": 2048000,
      "implicitDf": true,
      "rowLimit": 10000
     },
     "inputWidgets": {},
     "nuid": "f2b7b3ba-d6b5-4adc-ae8d-7a5c5331e658",
     "showTitle": false,
     "title": ""
    }
   },
   "outputs": [
    {
     "output_type": "display_data",
     "data": {
      "text/html": [
       "<style scoped>\n",
       "  .table-result-container {\n",
       "    max-height: 300px;\n",
       "    overflow: auto;\n",
       "  }\n",
       "  table, th, td {\n",
       "    border: 1px solid black;\n",
       "    border-collapse: collapse;\n",
       "  }\n",
       "  th, td {\n",
       "    padding: 5px;\n",
       "  }\n",
       "  th {\n",
       "    text-align: left;\n",
       "  }\n",
       "</style><div class='table-result-container'><table class='table-result'><thead style='background-color: white'><tr><th>PORTE_ESCOLA</th><th>media_taxa_abandono</th></tr></thead><tbody><tr><td>De 1 a 30 alunos</td><td>2.51</td></tr><tr><td>De 31 a 60 alunos</td><td>5.57</td></tr><tr><td>De 61 a 90 alunos</td><td>8.01</td></tr><tr><td>Maior que 90 alunos</td><td>10.5</td></tr></tbody></table></div>"
      ]
     },
     "metadata": {
      "application/vnd.databricks.v1+output": {
       "addedWidgets": {},
       "aggData": [],
       "aggError": "",
       "aggOverflow": false,
       "aggSchema": [],
       "aggSeriesLimitReached": false,
       "aggType": "",
       "arguments": {},
       "columnCustomDisplayInfos": {},
       "data": [
        [
         "De 1 a 30 alunos",
         2.51
        ],
        [
         "De 31 a 60 alunos",
         5.57
        ],
        [
         "De 61 a 90 alunos",
         8.01
        ],
        [
         "Maior que 90 alunos",
         10.5
        ]
       ],
       "datasetInfos": [],
       "dbfsResultPath": null,
       "isJsonSchema": true,
       "metadata": {},
       "overflow": false,
       "plotOptions": {
        "customPlotOptions": {},
        "displayType": "table",
        "pivotAggregation": null,
        "pivotColumns": null,
        "xColumns": null,
        "yColumns": null
       },
       "removedWidgets": [],
       "schema": [
        {
         "metadata": "{}",
         "name": "PORTE_ESCOLA",
         "type": "\"string\""
        },
        {
         "metadata": "{}",
         "name": "media_taxa_abandono",
         "type": "\"double\""
        }
       ],
       "type": "table"
      }
     },
     "output_type": "display_data"
    }
   ],
   "source": [
    "%sql\n",
    "SELECT \n",
    "    PORTE_ESCOLA, \n",
    "    ROUND(AVG(NU_TAXA_ABANDONO), 2) AS media_taxa_abandono\n",
    "FROM \n",
    "    tbl_enem\n",
    "WHERE \n",
    "    NU_TAXA_ABANDONO IS NOT NULL\n",
    "GROUP BY \n",
    "    PORTE_ESCOLA\n",
    "ORDER BY \n",
    "    media_taxa_abandono ASC;\n",
    "\n"
   ]
  },
  {
   "cell_type": "markdown",
   "metadata": {
    "application/vnd.databricks.v1+cell": {
     "cellMetadata": {},
     "inputWidgets": {},
     "nuid": "f71477e1-8262-4be5-a9ec-22d93a396d1f",
     "showTitle": false,
     "title": ""
    }
   },
   "source": [
    "O código sql faz média da taxa de abando e distribui por pelo porte da escola, ou seja a quantidade de alunos do último ano do ensino médio.\n",
    "\n",
    "Nesta análise a taxa de abandono segue uma proporcionaliade de acordo com a quantidade alunos matriculados no útimo ano do ensino médio por escola em suas turmas, quanto menos alunos, menor é a taxa de abandono."
   ]
  },
  {
   "cell_type": "markdown",
   "metadata": {
    "application/vnd.databricks.v1+cell": {
     "cellMetadata": {
      "byteLimit": 2048000,
      "rowLimit": 10000
     },
     "inputWidgets": {},
     "nuid": "1106abef-f43b-4640-89a5-be10fc02b816",
     "showTitle": false,
     "title": ""
    }
   },
   "source": [
    "____________________________________________________________________________________________________________________________"
   ]
  },
  {
   "cell_type": "markdown",
   "metadata": {
    "application/vnd.databricks.v1+cell": {
     "cellMetadata": {
      "byteLimit": 2048000,
      "rowLimit": 10000
     },
     "inputWidgets": {},
     "nuid": "2b55c136-ac25-47b2-9529-773495dad40f",
     "showTitle": false,
     "title": ""
    }
   },
   "source": [
    "## 5 - Qual a taxa de permanência, aprovação, reprovação e abandono de acordo com o porte da escola?"
   ]
  },
  {
   "cell_type": "code",
   "execution_count": 0,
   "metadata": {
    "application/vnd.databricks.v1+cell": {
     "cellMetadata": {
      "byteLimit": 2048000,
      "implicitDf": true,
      "rowLimit": 10000
     },
     "inputWidgets": {},
     "nuid": "b2effc2c-6bf7-4318-8685-6204f74b58f4",
     "showTitle": false,
     "title": ""
    }
   },
   "outputs": [
    {
     "output_type": "display_data",
     "data": {
      "text/html": [
       "<style scoped>\n",
       "  .table-result-container {\n",
       "    max-height: 300px;\n",
       "    overflow: auto;\n",
       "  }\n",
       "  table, th, td {\n",
       "    border: 1px solid black;\n",
       "    border-collapse: collapse;\n",
       "  }\n",
       "  th, td {\n",
       "    padding: 5px;\n",
       "  }\n",
       "  th {\n",
       "    text-align: left;\n",
       "  }\n",
       "</style><div class='table-result-container'><table class='table-result'><thead style='background-color: white'><tr><th>PORTE_ESCOLA</th><th>media_taxa_permanencia</th><th>media_taxa_aprovacao</th><th>media_taxa_reprovacao</th><th>media_taxa_abandono</th></tr></thead><tbody><tr><td>De 1 a 30 alunos</td><td>75.09</td><td>91.79</td><td>6.32</td><td>1.9</td></tr><tr><td>De 31 a 60 alunos</td><td>77.74</td><td>88.44</td><td>8.21</td><td>3.36</td></tr><tr><td>De 61 a 90 alunos</td><td>78.77</td><td>85.63</td><td>9.8</td><td>4.57</td></tr><tr><td>Maior que 90 alunos</td><td>77.29</td><td>82.54</td><td>11.44</td><td>6.02</td></tr></tbody></table></div>"
      ]
     },
     "metadata": {
      "application/vnd.databricks.v1+output": {
       "addedWidgets": {},
       "aggData": [],
       "aggError": "",
       "aggOverflow": false,
       "aggSchema": [],
       "aggSeriesLimitReached": false,
       "aggType": "",
       "arguments": {},
       "columnCustomDisplayInfos": {},
       "data": [
        [
         "De 1 a 30 alunos",
         75.09,
         91.79,
         6.32,
         1.9
        ],
        [
         "De 31 a 60 alunos",
         77.74,
         88.44,
         8.21,
         3.36
        ],
        [
         "De 61 a 90 alunos",
         78.77,
         85.63,
         9.8,
         4.57
        ],
        [
         "Maior que 90 alunos",
         77.29,
         82.54,
         11.44,
         6.02
        ]
       ],
       "datasetInfos": [],
       "dbfsResultPath": null,
       "isJsonSchema": true,
       "metadata": {},
       "overflow": false,
       "plotOptions": {
        "customPlotOptions": {},
        "displayType": "table",
        "pivotAggregation": null,
        "pivotColumns": null,
        "xColumns": null,
        "yColumns": null
       },
       "removedWidgets": [],
       "schema": [
        {
         "metadata": "{}",
         "name": "PORTE_ESCOLA",
         "type": "\"string\""
        },
        {
         "metadata": "{}",
         "name": "media_taxa_permanencia",
         "type": "\"double\""
        },
        {
         "metadata": "{}",
         "name": "media_taxa_aprovacao",
         "type": "\"double\""
        },
        {
         "metadata": "{}",
         "name": "media_taxa_reprovacao",
         "type": "\"double\""
        },
        {
         "metadata": "{}",
         "name": "media_taxa_abandono",
         "type": "\"double\""
        }
       ],
       "type": "table"
      }
     },
     "output_type": "display_data"
    }
   ],
   "source": [
    "%sql\n",
    "SELECT \n",
    "    PORTE_ESCOLA,\n",
    "    ROUND(AVG(NU_TAXA_PERMANENCIA), 2) AS media_taxa_permanencia,\n",
    "    ROUND(AVG(NU_TAXA_APROVACAO), 2) AS media_taxa_aprovacao,\n",
    "    ROUND(AVG(NU_TAXA_REPROVACAO), 2) AS media_taxa_reprovacao,\n",
    "    ROUND(AVG(NU_TAXA_ABANDONO), 2) AS media_taxa_abandono\n",
    "FROM \n",
    "    tbl_enem\n",
    "WHERE \n",
    "    NU_TAXA_PERMANENCIA IS NOT NULL\n",
    "    AND NU_TAXA_APROVACAO IS NOT NULL\n",
    "    AND NU_TAXA_REPROVACAO IS NOT NULL\n",
    "    AND NU_TAXA_ABANDONO IS NOT NULL\n",
    "GROUP BY \n",
    "    PORTE_ESCOLA\n",
    "ORDER BY \n",
    "    PORTE_ESCOLA;\n"
   ]
  },
  {
   "cell_type": "markdown",
   "metadata": {
    "application/vnd.databricks.v1+cell": {
     "cellMetadata": {},
     "inputWidgets": {},
     "nuid": "8559e1f4-a6da-424d-a71a-556d0f7b6ea5",
     "showTitle": false,
     "title": ""
    }
   },
   "source": [
    "O código sql, distribui os resultados de média de taxa de permanecia, taxa de aprovação, taxa de reprovação e taxa de bandono de acordo com o porte da escola, ou seja quantidade de alunos matriculados, no último ano do ensino médio.\n",
    "\n",
    "É possível fazer análises importantes comparando estes dados, turmas com menos alunos possuem uma taxa de permanêcia menor se comparado aos demais, no entanto a taxa de aprovação é maior, a taxa de reprovação menor eataxa de abandono também é a menor de todos os dados analisados.\n",
    "\n",
    "A taxa de permanência varia pouco de acordo com a quantidade de alunos.\n",
    "\n",
    "A taxa de reprovação e abandono é maior quando a quantidade de alunos é maior.\n"
   ]
  },
  {
   "cell_type": "markdown",
   "metadata": {
    "application/vnd.databricks.v1+cell": {
     "cellMetadata": {
      "byteLimit": 2048000,
      "rowLimit": 10000
     },
     "inputWidgets": {},
     "nuid": "54a52547-4885-4837-8d2f-e2b5d68d55cc",
     "showTitle": false,
     "title": ""
    }
   },
   "source": [
    "____________________________________________________________________________________________________________________________"
   ]
  },
  {
   "cell_type": "markdown",
   "metadata": {
    "application/vnd.databricks.v1+cell": {
     "cellMetadata": {
      "byteLimit": 2048000,
      "rowLimit": 10000
     },
     "inputWidgets": {},
     "nuid": "47883545-93eb-47cf-b68f-9216ff0c5689",
     "showTitle": false,
     "title": ""
    }
   },
   "source": [
    "## 6 - Qual a taxa de aprovação e reprovação de acordo com o nível socioeconômico da escola?"
   ]
  },
  {
   "cell_type": "markdown",
   "metadata": {
    "application/vnd.databricks.v1+cell": {
     "cellMetadata": {},
     "inputWidgets": {},
     "nuid": "7fdf4aa2-6c7b-44c7-95c4-2308def996ca",
     "showTitle": false,
     "title": ""
    }
   },
   "source": [
    "INSE - Indicador de Nível Socioeconômico da escola - Para melhor descrever o nível socioeconômico das escolas, foram criados seis grupos, de forma que o Grupo 1 congrega as escolas com Inse médio mais baixo e o Grupo 6, com mais alto. (Edição 2015) – Categorias: Grupo 1, Grupo 2, Grupo 3, Grupo 4, Grupo 5, Grupo 6. Ano 2015."
   ]
  },
  {
   "cell_type": "code",
   "execution_count": 0,
   "metadata": {
    "application/vnd.databricks.v1+cell": {
     "cellMetadata": {
      "byteLimit": 2048000,
      "implicitDf": true,
      "rowLimit": 10000
     },
     "inputWidgets": {},
     "nuid": "db8c3a15-8d02-4fa5-b9a1-feaae9e1efd5",
     "showTitle": false,
     "title": ""
    }
   },
   "outputs": [
    {
     "output_type": "display_data",
     "data": {
      "text/html": [
       "<style scoped>\n",
       "  .table-result-container {\n",
       "    max-height: 300px;\n",
       "    overflow: auto;\n",
       "  }\n",
       "  table, th, td {\n",
       "    border: 1px solid black;\n",
       "    border-collapse: collapse;\n",
       "  }\n",
       "  th, td {\n",
       "    padding: 5px;\n",
       "  }\n",
       "  th {\n",
       "    text-align: left;\n",
       "  }\n",
       "</style><div class='table-result-container'><table class='table-result'><thead style='background-color: white'><tr><th>INSE</th><th>media_taxa_aprovacao</th><th>media_taxa_reprovacao</th></tr></thead><tbody><tr><td>Grupo 1</td><td>83.87</td><td>8.1</td></tr><tr><td>Grupo 2</td><td>82.08</td><td>10.18</td></tr><tr><td>Grupo 3</td><td>83.35</td><td>11.2</td></tr><tr><td>Grupo 4</td><td>87.21</td><td>9.59</td></tr><tr><td>Grupo 5</td><td>93.68</td><td>5.72</td></tr><tr><td>Grupo 6</td><td>95.08</td><td>4.77</td></tr></tbody></table></div>"
      ]
     },
     "metadata": {
      "application/vnd.databricks.v1+output": {
       "addedWidgets": {},
       "aggData": [],
       "aggError": "",
       "aggOverflow": false,
       "aggSchema": [],
       "aggSeriesLimitReached": false,
       "aggType": "",
       "arguments": {},
       "columnCustomDisplayInfos": {},
       "data": [
        [
         "Grupo 1",
         83.87,
         8.1
        ],
        [
         "Grupo 2",
         82.08,
         10.18
        ],
        [
         "Grupo 3",
         83.35,
         11.2
        ],
        [
         "Grupo 4",
         87.21,
         9.59
        ],
        [
         "Grupo 5",
         93.68,
         5.72
        ],
        [
         "Grupo 6",
         95.08,
         4.77
        ]
       ],
       "datasetInfos": [],
       "dbfsResultPath": null,
       "isJsonSchema": true,
       "metadata": {},
       "overflow": false,
       "plotOptions": {
        "customPlotOptions": {},
        "displayType": "table",
        "pivotAggregation": null,
        "pivotColumns": null,
        "xColumns": null,
        "yColumns": null
       },
       "removedWidgets": [],
       "schema": [
        {
         "metadata": "{}",
         "name": "INSE",
         "type": "\"string\""
        },
        {
         "metadata": "{}",
         "name": "media_taxa_aprovacao",
         "type": "\"double\""
        },
        {
         "metadata": "{}",
         "name": "media_taxa_reprovacao",
         "type": "\"double\""
        }
       ],
       "type": "table"
      }
     },
     "output_type": "display_data"
    }
   ],
   "source": [
    "%sql\n",
    "SELECT \n",
    "    INSE,\n",
    "    ROUND(AVG(NU_TAXA_APROVACAO), 2) AS media_taxa_aprovacao,\n",
    "    ROUND(AVG(NU_TAXA_REPROVACAO), 2) AS media_taxa_reprovacao\n",
    "FROM \n",
    "    tbl_enem\n",
    "WHERE \n",
    "    INSE IS NOT NULL\n",
    "    AND NU_TAXA_APROVACAO IS NOT NULL\n",
    "    AND NU_TAXA_REPROVACAO IS NOT NULL\n",
    "GROUP BY \n",
    "    INSE\n",
    "ORDER BY \n",
    "    INSE;"
   ]
  },
  {
   "cell_type": "markdown",
   "metadata": {
    "application/vnd.databricks.v1+cell": {
     "cellMetadata": {},
     "inputWidgets": {},
     "nuid": "78a02ef6-a8d5-402b-b86a-95d094ab2043",
     "showTitle": false,
     "title": ""
    }
   },
   "source": [
    "O código sql, distribui os resultados de média de taxa de aprovação, taxa de reprovação de acordo os grupos INSE.\n",
    "\n",
    "Podemos analisar de acordo com o nível socioeconômico maior o resultados são na maior parte das vezes mais favoráveis, isso pode indicar um acesso mais amplo desses grupos sociais a um ensino com melhor qualidade."
   ]
  },
  {
   "cell_type": "markdown",
   "metadata": {
    "application/vnd.databricks.v1+cell": {
     "cellMetadata": {
      "byteLimit": 2048000,
      "rowLimit": 10000
     },
     "inputWidgets": {},
     "nuid": "b65a57a3-af66-4df9-887b-614c019c42b3",
     "showTitle": false,
     "title": ""
    }
   },
   "source": [
    "____________________________________________________________________________________________________________________________"
   ]
  },
  {
   "cell_type": "markdown",
   "metadata": {
    "application/vnd.databricks.v1+cell": {
     "cellMetadata": {
      "byteLimit": 2048000,
      "rowLimit": 10000
     },
     "inputWidgets": {},
     "nuid": "a770b1ec-2a8d-4f76-8961-02519303c7b8",
     "showTitle": false,
     "title": ""
    }
   },
   "source": [
    "## 7 - Qual a evolução da taxa de aprovação no ensino médio de acordo com os anos?"
   ]
  },
  {
   "cell_type": "code",
   "execution_count": 0,
   "metadata": {
    "application/vnd.databricks.v1+cell": {
     "cellMetadata": {
      "byteLimit": 2048000,
      "implicitDf": true,
      "rowLimit": 10000
     },
     "inputWidgets": {},
     "nuid": "50afe436-d59f-432e-ae57-68fa2f553cd9",
     "showTitle": false,
     "title": ""
    }
   },
   "outputs": [
    {
     "output_type": "display_data",
     "data": {
      "text/html": [
       "<style scoped>\n",
       "  .table-result-container {\n",
       "    max-height: 300px;\n",
       "    overflow: auto;\n",
       "  }\n",
       "  table, th, td {\n",
       "    border: 1px solid black;\n",
       "    border-collapse: collapse;\n",
       "  }\n",
       "  th, td {\n",
       "    padding: 5px;\n",
       "  }\n",
       "  th {\n",
       "    text-align: left;\n",
       "  }\n",
       "</style><div class='table-result-container'><table class='table-result'><thead style='background-color: white'><tr><th>NU_ANO</th><th>media_taxa_aprovacao</th></tr></thead><tbody><tr><td>2005</td><td>77.3</td></tr><tr><td>2007</td><td>78.41</td></tr><tr><td>2008</td><td>79.38</td></tr><tr><td>2009</td><td>80.43</td></tr><tr><td>2010</td><td>81.44</td></tr><tr><td>2011</td><td>86.87</td></tr><tr><td>2012</td><td>86.93</td></tr><tr><td>2013</td><td>87.08</td></tr><tr><td>2014</td><td>86.52</td></tr><tr><td>2015</td><td>87.42</td></tr></tbody></table></div>"
      ]
     },
     "metadata": {
      "application/vnd.databricks.v1+output": {
       "addedWidgets": {},
       "aggData": [],
       "aggError": "",
       "aggOverflow": false,
       "aggSchema": [],
       "aggSeriesLimitReached": false,
       "aggType": "",
       "arguments": {},
       "columnCustomDisplayInfos": {},
       "data": [
        [
         2005,
         77.3
        ],
        [
         2007,
         78.41
        ],
        [
         2008,
         79.38
        ],
        [
         2009,
         80.43
        ],
        [
         2010,
         81.44
        ],
        [
         2011,
         86.87
        ],
        [
         2012,
         86.93
        ],
        [
         2013,
         87.08
        ],
        [
         2014,
         86.52
        ],
        [
         2015,
         87.42
        ]
       ],
       "datasetInfos": [],
       "dbfsResultPath": null,
       "isJsonSchema": true,
       "metadata": {},
       "overflow": false,
       "plotOptions": {
        "customPlotOptions": {},
        "displayType": "table",
        "pivotAggregation": null,
        "pivotColumns": null,
        "xColumns": null,
        "yColumns": null
       },
       "removedWidgets": [],
       "schema": [
        {
         "metadata": "{}",
         "name": "NU_ANO",
         "type": "\"integer\""
        },
        {
         "metadata": "{}",
         "name": "media_taxa_aprovacao",
         "type": "\"double\""
        }
       ],
       "type": "table"
      }
     },
     "output_type": "display_data"
    },
    {
     "output_type": "display_data",
     "data": {
      "text/plain": [
       "Databricks visualization. Run in Databricks to view."
      ]
     },
     "metadata": {
      "application/vnd.databricks.v1.subcommand+json": {
       "baseErrorDetails": null,
       "bindings": {},
       "collapsed": false,
       "command": "%sql WITH q AS (SELECT \n    NU_ANO,\n    ROUND(AVG(NU_TAXA_APROVACAO), 2) AS media_taxa_aprovacao\nFROM \n    tbl_enem\nWHERE \n    NU_TAXA_APROVACAO IS NOT NULL\nGROUP BY \n    NU_ANO\nORDER BY \n    NU_ANO) SELECT `NU_ANO`,SUM(`media_taxa_aprovacao`) `column_4a75851639` FROM q GROUP BY `NU_ANO`",
       "commandTitle": "Visualização 2",
       "commandType": "auto",
       "commandVersion": 0,
       "commentThread": [],
       "commentsVisible": false,
       "contentSha256Hex": null,
       "customPlotOptions": {
        "redashChart": [
         {
          "key": "type",
          "value": "CHART"
         },
         {
          "key": "options",
          "value": {
           "alignYAxesAtZero": true,
           "coefficient": 1,
           "columnConfigurationMap": {
            "x": {
             "column": "NU_ANO",
             "id": "column_4a75851638"
            },
            "y": [
             {
              "column": "media_taxa_aprovacao",
              "id": "column_4a75851639",
              "transform": "SUM"
             }
            ]
           },
           "dateTimeFormat": "DD/MM/YYYY HH:mm",
           "direction": {
            "type": "counterclockwise"
           },
           "error_y": {
            "type": "data",
            "visible": true
           },
           "globalSeriesType": "line",
           "isAggregationOn": true,
           "legend": {
            "traceorder": "normal"
           },
           "missingValuesAsZero": true,
           "numberFormat": "0,0.[00000]",
           "percentFormat": "0[.]00%",
           "series": {
            "error_y": {
             "type": "data",
             "visible": true
            },
            "stacking": null
           },
           "seriesOptions": {
            "column_4a75851639": {
             "name": "media_taxa_aprovacao",
             "type": "line",
             "yAxis": 0
            }
           },
           "showDataLabels": false,
           "sizemode": "diameter",
           "sortX": true,
           "sortY": true,
           "swappedAxes": false,
           "textFormat": "",
           "useAggregationsUi": true,
           "valuesOptions": {},
           "version": 2,
           "xAxis": {
            "labels": {
             "enabled": true
            },
            "type": "-"
           },
           "yAxis": [
            {
             "type": "-"
            },
            {
             "opposite": true,
             "type": "-"
            }
           ]
          }
         }
        ]
       },
       "datasetPreviewNameToCmdIdMap": {},
       "diffDeletes": [],
       "diffInserts": [],
       "displayType": "redashChart",
       "error": null,
       "errorDetails": null,
       "errorSummary": null,
       "errorTraceType": null,
       "finishTime": 0,
       "globalVars": {},
       "guid": "",
       "height": "auto",
       "hideCommandCode": false,
       "hideCommandResult": false,
       "iPythonMetadata": null,
       "inputWidgets": {},
       "isLockedInExamMode": false,
       "latestUser": "a user",
       "latestUserId": null,
       "listResultMetadata": null,
       "metadata": {
        "byteLimit": 2048000,
        "implicitDf": true,
        "rowLimit": 10000
       },
       "nuid": "558cd766-9963-4891-aa44-72d6c97eaf2b",
       "origId": 0,
       "parentHierarchy": [],
       "pivotAggregation": null,
       "pivotColumns": null,
       "position": 6.19384765625,
       "resultDbfsErrorMessage": null,
       "resultDbfsStatus": "INLINED_IN_TREE",
       "results": null,
       "showCommandTitle": false,
       "startTime": 0,
       "state": "input",
       "streamStates": {},
       "subcommandOptions": {
        "queryPlan": {
         "groups": [
          {
           "column": "NU_ANO",
           "type": "column"
          }
         ],
         "selects": [
          {
           "column": "NU_ANO",
           "type": "column"
          },
          {
           "alias": "column_4a75851639",
           "args": [
            {
             "column": "media_taxa_aprovacao",
             "type": "column"
            }
           ],
           "function": "SUM",
           "type": "function"
          }
         ]
        }
       },
       "submitTime": 0,
       "subtype": "tableResultSubCmd.visualization",
       "tableResultIndex": 0,
       "useConsistentColors": false,
       "version": "CommandV1",
       "width": "auto",
       "workflows": [],
       "xColumns": null,
       "yColumns": null
      }
     },
     "output_type": "display_data"
    }
   ],
   "source": [
    "%sql\n",
    "SELECT \n",
    "    NU_ANO,\n",
    "    ROUND(AVG(NU_TAXA_APROVACAO), 2) AS media_taxa_aprovacao\n",
    "FROM \n",
    "    tbl_enem\n",
    "WHERE \n",
    "    NU_TAXA_APROVACAO IS NOT NULL\n",
    "GROUP BY \n",
    "    NU_ANO\n",
    "ORDER BY \n",
    "    NU_ANO;\n"
   ]
  },
  {
   "cell_type": "markdown",
   "metadata": {
    "application/vnd.databricks.v1+cell": {
     "cellMetadata": {},
     "inputWidgets": {},
     "nuid": "b90c6334-2b42-4d72-a462-ed0a02385585",
     "showTitle": false,
     "title": ""
    }
   },
   "source": [
    "O código sql, ranqueia a taxa de aprovação de acordo com os anos dos dados históricos.\n",
    "\n",
    "Podemos compreender de acordo com os anos históricos de aplicação do ENEM que a taxa de aprovação no ensino médio subiu considerávelmente, ou seja o exame demonstra um impacto positivo no desempenho do ensino médio de forma geral."
   ]
  },
  {
   "cell_type": "markdown",
   "metadata": {
    "application/vnd.databricks.v1+cell": {
     "cellMetadata": {
      "byteLimit": 2048000,
      "rowLimit": 10000
     },
     "inputWidgets": {},
     "nuid": "45f5aedd-2c88-4a36-84c9-bcc868196567",
     "showTitle": false,
     "title": ""
    }
   },
   "source": [
    "____________________________________________________________________________________________________________________________"
   ]
  },
  {
   "cell_type": "markdown",
   "metadata": {
    "application/vnd.databricks.v1+cell": {
     "cellMetadata": {
      "byteLimit": 2048000,
      "rowLimit": 10000
     },
     "inputWidgets": {},
     "nuid": "d160ea23-3f02-4df9-96d7-a2634abe7c6e",
     "showTitle": false,
     "title": ""
    }
   },
   "source": [
    "## 8 - Qual a taxa de aprovação no ensino médio de acordo com o estado?"
   ]
  },
  {
   "cell_type": "code",
   "execution_count": 0,
   "metadata": {
    "application/vnd.databricks.v1+cell": {
     "cellMetadata": {
      "byteLimit": 2048000,
      "implicitDf": true,
      "rowLimit": 10000
     },
     "inputWidgets": {},
     "nuid": "8b591b1a-55b4-4301-8280-9a90ee92544f",
     "showTitle": false,
     "title": ""
    }
   },
   "outputs": [
    {
     "output_type": "display_data",
     "data": {
      "text/html": [
       "<style scoped>\n",
       "  .table-result-container {\n",
       "    max-height: 300px;\n",
       "    overflow: auto;\n",
       "  }\n",
       "  table, th, td {\n",
       "    border: 1px solid black;\n",
       "    border-collapse: collapse;\n",
       "  }\n",
       "  th, td {\n",
       "    padding: 5px;\n",
       "  }\n",
       "  th {\n",
       "    text-align: left;\n",
       "  }\n",
       "</style><div class='table-result-container'><table class='table-result'><thead style='background-color: white'><tr><th>SG_UF_ESCOLA</th><th>media_taxa_aprovacao</th></tr></thead><tbody><tr><td>SP</td><td>87.81</td></tr><tr><td>SC</td><td>86.15</td></tr><tr><td>CE</td><td>84.49</td></tr><tr><td>PR</td><td>84.0</td></tr><tr><td>GO</td><td>83.42</td></tr><tr><td>PE</td><td>83.19</td></tr><tr><td>AC</td><td>83.17</td></tr><tr><td>TO</td><td>83.1</td></tr><tr><td>MG</td><td>82.84</td></tr><tr><td>DF</td><td>82.38</td></tr><tr><td>ES</td><td>82.37</td></tr><tr><td>AM</td><td>81.99</td></tr><tr><td>MA</td><td>81.52</td></tr><tr><td>RR</td><td>81.45</td></tr><tr><td>AL</td><td>80.32</td></tr><tr><td>PB</td><td>80.22</td></tr><tr><td>RJ</td><td>80.06</td></tr><tr><td>RO</td><td>79.01</td></tr><tr><td>PI</td><td>78.88</td></tr><tr><td>RN</td><td>78.54</td></tr><tr><td>BA</td><td>78.36</td></tr><tr><td>SE</td><td>77.35</td></tr><tr><td>RS</td><td>77.23</td></tr><tr><td>MS</td><td>76.85</td></tr><tr><td>MT</td><td>76.61</td></tr><tr><td>PA</td><td>75.82</td></tr><tr><td>AP</td><td>75.59</td></tr></tbody></table></div>"
      ]
     },
     "metadata": {
      "application/vnd.databricks.v1+output": {
       "addedWidgets": {},
       "aggData": [],
       "aggError": "",
       "aggOverflow": false,
       "aggSchema": [],
       "aggSeriesLimitReached": false,
       "aggType": "",
       "arguments": {},
       "columnCustomDisplayInfos": {},
       "data": [
        [
         "SP",
         87.81
        ],
        [
         "SC",
         86.15
        ],
        [
         "CE",
         84.49
        ],
        [
         "PR",
         84.0
        ],
        [
         "GO",
         83.42
        ],
        [
         "PE",
         83.19
        ],
        [
         "AC",
         83.17
        ],
        [
         "TO",
         83.1
        ],
        [
         "MG",
         82.84
        ],
        [
         "DF",
         82.38
        ],
        [
         "ES",
         82.37
        ],
        [
         "AM",
         81.99
        ],
        [
         "MA",
         81.52
        ],
        [
         "RR",
         81.45
        ],
        [
         "AL",
         80.32
        ],
        [
         "PB",
         80.22
        ],
        [
         "RJ",
         80.06
        ],
        [
         "RO",
         79.01
        ],
        [
         "PI",
         78.88
        ],
        [
         "RN",
         78.54
        ],
        [
         "BA",
         78.36
        ],
        [
         "SE",
         77.35
        ],
        [
         "RS",
         77.23
        ],
        [
         "MS",
         76.85
        ],
        [
         "MT",
         76.61
        ],
        [
         "PA",
         75.82
        ],
        [
         "AP",
         75.59
        ]
       ],
       "datasetInfos": [],
       "dbfsResultPath": null,
       "isJsonSchema": true,
       "metadata": {},
       "overflow": false,
       "plotOptions": {
        "customPlotOptions": {},
        "displayType": "table",
        "pivotAggregation": null,
        "pivotColumns": null,
        "xColumns": null,
        "yColumns": null
       },
       "removedWidgets": [],
       "schema": [
        {
         "metadata": "{}",
         "name": "SG_UF_ESCOLA",
         "type": "\"string\""
        },
        {
         "metadata": "{}",
         "name": "media_taxa_aprovacao",
         "type": "\"double\""
        }
       ],
       "type": "table"
      }
     },
     "output_type": "display_data"
    },
    {
     "output_type": "display_data",
     "data": {
      "text/plain": [
       "Databricks visualization. Run in Databricks to view."
      ]
     },
     "metadata": {
      "application/vnd.databricks.v1.subcommand+json": {
       "baseErrorDetails": null,
       "bindings": {},
       "collapsed": false,
       "command": "%sql WITH q AS (SELECT \n    SG_UF_ESCOLA,\n    ROUND(AVG(NU_TAXA_APROVACAO), 2) AS media_taxa_aprovacao\nFROM \n    tbl_enem\nWHERE \n    NU_TAXA_APROVACAO IS NOT NULL\nGROUP BY \n    SG_UF_ESCOLA\nORDER BY \n    media_taxa_aprovacao DESC) SELECT `SG_UF_ESCOLA`,SUM(`media_taxa_aprovacao`) `column_4a75851648` FROM q GROUP BY `SG_UF_ESCOLA`",
       "commandTitle": "Visualização 1",
       "commandType": "auto",
       "commandVersion": 0,
       "commentThread": [],
       "commentsVisible": false,
       "contentSha256Hex": null,
       "customPlotOptions": {
        "redashChart": [
         {
          "key": "type",
          "value": "CHART"
         },
         {
          "key": "options",
          "value": {
           "alignYAxesAtZero": true,
           "coefficient": 1,
           "columnConfigurationMap": {
            "x": {
             "column": "SG_UF_ESCOLA",
             "id": "column_4a75851647"
            },
            "y": [
             {
              "column": "media_taxa_aprovacao",
              "id": "column_4a75851648",
              "transform": "SUM"
             }
            ]
           },
           "dateTimeFormat": "DD/MM/YYYY HH:mm",
           "direction": {
            "type": "counterclockwise"
           },
           "error_y": {
            "type": "data",
            "visible": true
           },
           "globalSeriesType": "line",
           "isAggregationOn": true,
           "legend": {
            "traceorder": "normal"
           },
           "missingValuesAsZero": true,
           "numberFormat": "0,0.[00000]",
           "percentFormat": "0[.]00%",
           "series": {
            "error_y": {
             "type": "data",
             "visible": true
            },
            "stacking": null
           },
           "seriesOptions": {
            "column_4a75851648": {
             "name": "media_taxa_aprovacao",
             "type": "line",
             "yAxis": 0
            }
           },
           "showDataLabels": false,
           "sizemode": "diameter",
           "sortX": true,
           "sortY": true,
           "swappedAxes": false,
           "textFormat": "",
           "useAggregationsUi": true,
           "valuesOptions": {},
           "version": 2,
           "xAxis": {
            "labels": {
             "enabled": true
            },
            "type": "-"
           },
           "yAxis": [
            {
             "type": "-"
            },
            {
             "opposite": true,
             "type": "-"
            }
           ]
          }
         }
        ]
       },
       "datasetPreviewNameToCmdIdMap": {},
       "diffDeletes": [],
       "diffInserts": [],
       "displayType": "redashChart",
       "error": null,
       "errorDetails": null,
       "errorSummary": null,
       "errorTraceType": null,
       "finishTime": 0,
       "globalVars": {},
       "guid": "",
       "height": "auto",
       "hideCommandCode": false,
       "hideCommandResult": false,
       "iPythonMetadata": null,
       "inputWidgets": {},
       "isLockedInExamMode": false,
       "latestUser": "a user",
       "latestUserId": null,
       "listResultMetadata": null,
       "metadata": {
        "byteLimit": 2048000,
        "implicitDf": true,
        "rowLimit": 10000
       },
       "nuid": "2d207351-f74c-4175-9012-cf6ac46a82b6",
       "origId": 0,
       "parentHierarchy": [],
       "pivotAggregation": null,
       "pivotColumns": null,
       "position": 5.1949462890625,
       "resultDbfsErrorMessage": null,
       "resultDbfsStatus": "INLINED_IN_TREE",
       "results": null,
       "showCommandTitle": false,
       "startTime": 0,
       "state": "input",
       "streamStates": {},
       "subcommandOptions": {
        "queryPlan": {
         "groups": [
          {
           "column": "SG_UF_ESCOLA",
           "type": "column"
          }
         ],
         "selects": [
          {
           "column": "SG_UF_ESCOLA",
           "type": "column"
          },
          {
           "alias": "column_4a75851648",
           "args": [
            {
             "column": "media_taxa_aprovacao",
             "type": "column"
            }
           ],
           "function": "SUM",
           "type": "function"
          }
         ]
        }
       },
       "submitTime": 0,
       "subtype": "tableResultSubCmd.visualization",
       "tableResultIndex": 0,
       "useConsistentColors": false,
       "version": "CommandV1",
       "width": "auto",
       "workflows": [],
       "xColumns": null,
       "yColumns": null
      }
     },
     "output_type": "display_data"
    }
   ],
   "source": [
    "%sql\n",
    "SELECT \n",
    "    SG_UF_ESCOLA,\n",
    "    ROUND(AVG(NU_TAXA_APROVACAO), 2) AS media_taxa_aprovacao\n",
    "FROM \n",
    "    tbl_enem\n",
    "WHERE \n",
    "    NU_TAXA_APROVACAO IS NOT NULL\n",
    "GROUP BY \n",
    "    SG_UF_ESCOLA\n",
    "ORDER BY \n",
    "    media_taxa_aprovacao DESC;\n"
   ]
  },
  {
   "cell_type": "markdown",
   "metadata": {
    "application/vnd.databricks.v1+cell": {
     "cellMetadata": {},
     "inputWidgets": {},
     "nuid": "4fbc9907-503a-4c99-acce-b6d1f8dc284b",
     "showTitle": false,
     "title": ""
    }
   },
   "source": [
    "O código sql faz a média da taxa de aprovação de acordo com os dados históricos ranqueandos por estado.\n",
    "\n",
    "De acordo com a base de dados temos como melhores taxas de aprovação os estados de São Paulo com 87,81%, seguido do estado de Santa Catarina com 86,15% e o Ceará com 84,9%. Com mais esta análise podemos entender mais uma vez que a divisão geográfica não está relacionada ao desempenho, neste exemplo temos os três melhores estados em desempenho em regiões diferentes do País."
   ]
  },
  {
   "cell_type": "markdown",
   "metadata": {
    "application/vnd.databricks.v1+cell": {
     "cellMetadata": {
      "byteLimit": 2048000,
      "rowLimit": 10000
     },
     "inputWidgets": {},
     "nuid": "0786d114-4625-43b8-aa06-6344a367877e",
     "showTitle": false,
     "title": ""
    }
   },
   "source": [
    "____________________________________________________________________________________________________________________________"
   ]
  },
  {
   "cell_type": "markdown",
   "metadata": {
    "application/vnd.databricks.v1+cell": {
     "cellMetadata": {
      "byteLimit": 2048000,
      "rowLimit": 10000
     },
     "inputWidgets": {},
     "nuid": "baecaa5a-deb9-4a1b-bcf2-cbac37d8117f",
     "showTitle": false,
     "title": ""
    }
   },
   "source": [
    "## 9 - Qual a taxa de participação no ENEM de acordo com o anos históricos de 2009 a 2015?"
   ]
  },
  {
   "cell_type": "code",
   "execution_count": 0,
   "metadata": {
    "application/vnd.databricks.v1+cell": {
     "cellMetadata": {
      "byteLimit": 2048000,
      "implicitDf": true,
      "rowLimit": 10000
     },
     "inputWidgets": {},
     "nuid": "9eac3ae7-ea6a-4e15-9a0b-5c78c4435a88",
     "showTitle": false,
     "title": ""
    }
   },
   "outputs": [
    {
     "output_type": "display_data",
     "data": {
      "text/html": [
       "<style scoped>\n",
       "  .table-result-container {\n",
       "    max-height: 300px;\n",
       "    overflow: auto;\n",
       "  }\n",
       "  table, th, td {\n",
       "    border: 1px solid black;\n",
       "    border-collapse: collapse;\n",
       "  }\n",
       "  th, td {\n",
       "    padding: 5px;\n",
       "  }\n",
       "  th {\n",
       "    text-align: left;\n",
       "  }\n",
       "</style><div class='table-result-container'><table class='table-result'><thead style='background-color: white'><tr><th>NU_ANO</th><th>media_taxa_participacao</th></tr></thead><tbody><tr><td>2009</td><td>42.49</td></tr><tr><td>2010</td><td>50.72</td></tr><tr><td>2011</td><td>69.01</td></tr><tr><td>2012</td><td>75.05</td></tr><tr><td>2013</td><td>75.2</td></tr><tr><td>2014</td><td>74.92</td></tr><tr><td>2015</td><td>76.14</td></tr></tbody></table></div>"
      ]
     },
     "metadata": {
      "application/vnd.databricks.v1+output": {
       "addedWidgets": {},
       "aggData": [],
       "aggError": "",
       "aggOverflow": false,
       "aggSchema": [],
       "aggSeriesLimitReached": false,
       "aggType": "",
       "arguments": {},
       "columnCustomDisplayInfos": {},
       "data": [
        [
         2009,
         42.49
        ],
        [
         2010,
         50.72
        ],
        [
         2011,
         69.01
        ],
        [
         2012,
         75.05
        ],
        [
         2013,
         75.2
        ],
        [
         2014,
         74.92
        ],
        [
         2015,
         76.14
        ]
       ],
       "datasetInfos": [],
       "dbfsResultPath": null,
       "isJsonSchema": true,
       "metadata": {},
       "overflow": false,
       "plotOptions": {
        "customPlotOptions": {},
        "displayType": "table",
        "pivotAggregation": null,
        "pivotColumns": null,
        "xColumns": null,
        "yColumns": null
       },
       "removedWidgets": [],
       "schema": [
        {
         "metadata": "{}",
         "name": "NU_ANO",
         "type": "\"integer\""
        },
        {
         "metadata": "{}",
         "name": "media_taxa_participacao",
         "type": "\"double\""
        }
       ],
       "type": "table"
      }
     },
     "output_type": "display_data"
    },
    {
     "output_type": "display_data",
     "data": {
      "text/plain": [
       "Databricks visualization. Run in Databricks to view."
      ]
     },
     "metadata": {
      "application/vnd.databricks.v1.subcommand+json": {
       "baseErrorDetails": null,
       "bindings": {},
       "collapsed": false,
       "command": "%sql WITH q AS (SELECT \n    NU_ANO,\n    ROUND(AVG(NU_TAXA_PARTICIPACAO), 2) AS media_taxa_participacao\nFROM \n    tbl_enem\nWHERE \n    NU_TAXA_PARTICIPACAO IS NOT NULL\nGROUP BY \n    NU_ANO\nORDER BY \n    NU_ANO) SELECT `NU_ANO`,SUM(`media_taxa_participacao`) `column_4a75851652` FROM q GROUP BY `NU_ANO`",
       "commandTitle": "Visualização 1",
       "commandType": "auto",
       "commandVersion": 0,
       "commentThread": [],
       "commentsVisible": false,
       "contentSha256Hex": null,
       "customPlotOptions": {
        "redashChart": [
         {
          "key": "type",
          "value": "CHART"
         },
         {
          "key": "options",
          "value": {
           "alignYAxesAtZero": true,
           "coefficient": 1,
           "columnConfigurationMap": {
            "x": {
             "column": "NU_ANO",
             "id": "column_4a75851651"
            },
            "y": [
             {
              "column": "media_taxa_participacao",
              "id": "column_4a75851652",
              "transform": "SUM"
             }
            ]
           },
           "dateTimeFormat": "DD/MM/YYYY HH:mm",
           "direction": {
            "type": "counterclockwise"
           },
           "error_y": {
            "type": "data",
            "visible": true
           },
           "globalSeriesType": "area",
           "isAggregationOn": true,
           "legend": {
            "traceorder": "normal"
           },
           "missingValuesAsZero": true,
           "numberFormat": "0,0.[00000]",
           "percentFormat": "0[.]00%",
           "series": {
            "error_y": {
             "type": "data",
             "visible": true
            },
            "stacking": null
           },
           "seriesOptions": {
            "column_4a75851652": {
             "name": "media_taxa_participacao",
             "type": "area",
             "yAxis": 0
            }
           },
           "showDataLabels": false,
           "sizemode": "diameter",
           "sortX": true,
           "sortY": true,
           "swappedAxes": false,
           "textFormat": "",
           "useAggregationsUi": true,
           "valuesOptions": {},
           "version": 2,
           "xAxis": {
            "labels": {
             "enabled": true
            },
            "type": "-"
           },
           "yAxis": [
            {
             "type": "-"
            },
            {
             "opposite": true,
             "type": "-"
            }
           ]
          }
         }
        ]
       },
       "datasetPreviewNameToCmdIdMap": {},
       "diffDeletes": [],
       "diffInserts": [],
       "displayType": "redashChart",
       "error": null,
       "errorDetails": null,
       "errorSummary": null,
       "errorTraceType": null,
       "finishTime": 0,
       "globalVars": {},
       "guid": "",
       "height": "auto",
       "hideCommandCode": false,
       "hideCommandResult": false,
       "iPythonMetadata": null,
       "inputWidgets": {},
       "isLockedInExamMode": false,
       "latestUser": "a user",
       "latestUserId": null,
       "listResultMetadata": null,
       "metadata": {
        "byteLimit": 2048000,
        "implicitDf": true,
        "rowLimit": 10000
       },
       "nuid": "5e331712-0340-48b9-afa1-0046efbd915b",
       "origId": 0,
       "parentHierarchy": [],
       "pivotAggregation": null,
       "pivotColumns": null,
       "position": 5.195220947265625,
       "resultDbfsErrorMessage": null,
       "resultDbfsStatus": "INLINED_IN_TREE",
       "results": null,
       "showCommandTitle": false,
       "startTime": 0,
       "state": "input",
       "streamStates": {},
       "subcommandOptions": {
        "queryPlan": {
         "groups": [
          {
           "column": "NU_ANO",
           "type": "column"
          }
         ],
         "selects": [
          {
           "column": "NU_ANO",
           "type": "column"
          },
          {
           "alias": "column_4a75851652",
           "args": [
            {
             "column": "media_taxa_participacao",
             "type": "column"
            }
           ],
           "function": "SUM",
           "type": "function"
          }
         ]
        }
       },
       "submitTime": 0,
       "subtype": "tableResultSubCmd.visualization",
       "tableResultIndex": 0,
       "useConsistentColors": false,
       "version": "CommandV1",
       "width": "auto",
       "workflows": [],
       "xColumns": null,
       "yColumns": null
      }
     },
     "output_type": "display_data"
    }
   ],
   "source": [
    "%sql\n",
    "SELECT \n",
    "    NU_ANO,\n",
    "    ROUND(AVG(NU_TAXA_PARTICIPACAO), 2) AS media_taxa_participacao\n",
    "FROM \n",
    "    tbl_enem\n",
    "WHERE \n",
    "    NU_TAXA_PARTICIPACAO IS NOT NULL\n",
    "GROUP BY \n",
    "    NU_ANO\n",
    "ORDER BY \n",
    "    NU_ANO;\n"
   ]
  },
  {
   "cell_type": "markdown",
   "metadata": {
    "application/vnd.databricks.v1+cell": {
     "cellMetadata": {},
     "inputWidgets": {},
     "nuid": "d8ab4f9f-8645-4254-8626-3b86505849c5",
     "showTitle": false,
     "title": ""
    }
   },
   "source": [
    "O código sql, ranqueia a média da taxa de participação de acordo com os anos.\n",
    "\n",
    "Podemos perceber que de acordo com os anos houve um considerável aumento na taxa de participação no exame, que com certeza está diretamente relacionado às políticas públicas implementadas em torno do ENEM, seja como método de ingresso em faculdade públicas, privadas, indicador de participação em programas do Governo Federal, e também ferramenta de análise eduacional social."
   ]
  },
  {
   "cell_type": "markdown",
   "metadata": {
    "application/vnd.databricks.v1+cell": {
     "cellMetadata": {
      "byteLimit": 2048000,
      "rowLimit": 10000
     },
     "inputWidgets": {},
     "nuid": "fe87a54c-a836-4e1f-a518-72bc248b8eed",
     "showTitle": false,
     "title": ""
    }
   },
   "source": [
    "____________________________________________________________________________________________________________________________"
   ]
  },
  {
   "cell_type": "markdown",
   "metadata": {
    "application/vnd.databricks.v1+cell": {
     "cellMetadata": {},
     "inputWidgets": {},
     "nuid": "5706ec39-e0be-46d9-8fc6-aecc7f775d33",
     "showTitle": false,
     "title": ""
    }
   },
   "source": [
    "## 10 - Quais estados ficaram em primeiro lugar com maior taxa de aprovação, de acordo com o histórico dos anos presentes no estudo?"
   ]
  },
  {
   "cell_type": "code",
   "execution_count": 0,
   "metadata": {
    "application/vnd.databricks.v1+cell": {
     "cellMetadata": {
      "byteLimit": 2048000,
      "implicitDf": true,
      "rowLimit": 10000
     },
     "inputWidgets": {},
     "nuid": "dfd6d03f-09d4-44c4-af7c-7cd9618f6955",
     "showTitle": false,
     "title": ""
    }
   },
   "outputs": [
    {
     "output_type": "display_data",
     "data": {
      "text/html": [
       "<style scoped>\n",
       "  .table-result-container {\n",
       "    max-height: 300px;\n",
       "    overflow: auto;\n",
       "  }\n",
       "  table, th, td {\n",
       "    border: 1px solid black;\n",
       "    border-collapse: collapse;\n",
       "  }\n",
       "  th, td {\n",
       "    padding: 5px;\n",
       "  }\n",
       "  th {\n",
       "    text-align: left;\n",
       "  }\n",
       "</style><div class='table-result-container'><table class='table-result'><thead style='background-color: white'><tr><th>NU_ANO</th><th>SG_UF_ESCOLA</th><th>media_taxa_aprovacao</th></tr></thead><tbody><tr><td>2015</td><td>SP</td><td>93.73</td></tr><tr><td>2014</td><td>SP</td><td>92.93</td></tr><tr><td>2013</td><td>SP</td><td>92.71</td></tr><tr><td>2012</td><td>SP</td><td>92.42</td></tr><tr><td>2011</td><td>SC</td><td>92.48</td></tr><tr><td>2010</td><td>SP</td><td>86.62</td></tr><tr><td>2009</td><td>SC</td><td>86.98</td></tr><tr><td>2008</td><td>SC</td><td>85.91</td></tr><tr><td>2007</td><td>SC</td><td>85.91</td></tr><tr><td>2005</td><td>SC</td><td>84.05</td></tr></tbody></table></div>"
      ]
     },
     "metadata": {
      "application/vnd.databricks.v1+output": {
       "addedWidgets": {},
       "aggData": [],
       "aggError": "",
       "aggOverflow": false,
       "aggSchema": [],
       "aggSeriesLimitReached": false,
       "aggType": "",
       "arguments": {},
       "columnCustomDisplayInfos": {},
       "data": [
        [
         2015,
         "SP",
         93.73
        ],
        [
         2014,
         "SP",
         92.93
        ],
        [
         2013,
         "SP",
         92.71
        ],
        [
         2012,
         "SP",
         92.42
        ],
        [
         2011,
         "SC",
         92.48
        ],
        [
         2010,
         "SP",
         86.62
        ],
        [
         2009,
         "SC",
         86.98
        ],
        [
         2008,
         "SC",
         85.91
        ],
        [
         2007,
         "SC",
         85.91
        ],
        [
         2005,
         "SC",
         84.05
        ]
       ],
       "datasetInfos": [],
       "dbfsResultPath": null,
       "isJsonSchema": true,
       "metadata": {},
       "overflow": false,
       "plotOptions": {
        "customPlotOptions": {},
        "displayType": "table",
        "pivotAggregation": null,
        "pivotColumns": null,
        "xColumns": null,
        "yColumns": null
       },
       "removedWidgets": [],
       "schema": [
        {
         "metadata": "{}",
         "name": "NU_ANO",
         "type": "\"integer\""
        },
        {
         "metadata": "{}",
         "name": "SG_UF_ESCOLA",
         "type": "\"string\""
        },
        {
         "metadata": "{}",
         "name": "media_taxa_aprovacao",
         "type": "\"double\""
        }
       ],
       "type": "table"
      }
     },
     "output_type": "display_data"
    },
    {
     "output_type": "display_data",
     "data": {
      "text/plain": [
       "Databricks visualization. Run in Databricks to view."
      ]
     },
     "metadata": {
      "application/vnd.databricks.v1.subcommand+json": {
       "baseErrorDetails": null,
       "bindings": {},
       "collapsed": false,
       "command": "%sql WITH q AS (WITH taxa_por_estado AS (\n    SELECT \n        NU_ANO,\n        SG_UF_ESCOLA,\n        ROUND(AVG(NU_TAXA_APROVACAO), 2) AS media_taxa_aprovacao\n    FROM \n        tbl_enem\n    WHERE \n        NU_TAXA_APROVACAO IS NOT NULL\n    GROUP BY \n        NU_ANO,\n        SG_UF_ESCOLA\n),\nranked_taxa AS (\n    SELECT \n        NU_ANO,\n        SG_UF_ESCOLA,\n        media_taxa_aprovacao,\n        ROW_NUMBER() OVER (PARTITION BY NU_ANO ORDER BY media_taxa_aprovacao DESC) AS rank\n    FROM \n        taxa_por_estado\n)\nSELECT \n    NU_ANO,\n    SG_UF_ESCOLA,\n    media_taxa_aprovacao\nFROM \n    ranked_taxa\nWHERE \n    rank = 1\nORDER BY \n    NU_ANO DESC) SELECT `NU_ANO`,SUM(`media_taxa_aprovacao`) `column_4a75851659`,`SG_UF_ESCOLA` FROM q GROUP BY `NU_ANO`,`SG_UF_ESCOLA`",
       "commandTitle": "Visualização 1",
       "commandType": "auto",
       "commandVersion": 0,
       "commentThread": [],
       "commentsVisible": false,
       "contentSha256Hex": null,
       "customPlotOptions": {
        "redashChart": [
         {
          "key": "type",
          "value": "CHART"
         },
         {
          "key": "options",
          "value": {
           "alignYAxesAtZero": true,
           "coefficient": 1,
           "columnConfigurationMap": {
            "series": {
             "column": "SG_UF_ESCOLA",
             "id": "column_4a75851660"
            },
            "x": {
             "column": "NU_ANO",
             "id": "column_4a75851658"
            },
            "y": [
             {
              "column": "media_taxa_aprovacao",
              "id": "column_4a75851659",
              "transform": "SUM"
             }
            ]
           },
           "dateTimeFormat": "DD/MM/YYYY HH:mm",
           "direction": {
            "type": "counterclockwise"
           },
           "error_y": {
            "type": "data",
            "visible": true
           },
           "globalSeriesType": "area",
           "isAggregationOn": true,
           "legend": {
            "traceorder": "normal"
           },
           "missingValuesAsZero": true,
           "numberFormat": "0,0.[00000]",
           "percentFormat": "0[.]00%",
           "series": {
            "error_y": {
             "type": "data",
             "visible": true
            },
            "stacking": null
           },
           "seriesOptions": {
            "column_4a75851659": {
             "name": "media_taxa_aprovacao",
             "type": "area",
             "yAxis": 0
            }
           },
           "showDataLabels": false,
           "sizemode": "diameter",
           "sortX": true,
           "sortY": true,
           "swappedAxes": false,
           "textFormat": "",
           "useAggregationsUi": true,
           "valuesOptions": {},
           "version": 2,
           "xAxis": {
            "labels": {
             "enabled": true
            },
            "type": "-"
           },
           "yAxis": [
            {
             "type": "-"
            },
            {
             "opposite": true,
             "type": "-"
            }
           ]
          }
         }
        ]
       },
       "datasetPreviewNameToCmdIdMap": {},
       "diffDeletes": [],
       "diffInserts": [],
       "displayType": "redashChart",
       "error": null,
       "errorDetails": null,
       "errorSummary": null,
       "errorTraceType": null,
       "finishTime": 0,
       "globalVars": {},
       "guid": "",
       "height": "auto",
       "hideCommandCode": false,
       "hideCommandResult": false,
       "iPythonMetadata": null,
       "inputWidgets": {},
       "isLockedInExamMode": false,
       "latestUser": "a user",
       "latestUserId": null,
       "listResultMetadata": null,
       "metadata": {
        "byteLimit": 2048000,
        "implicitDf": true,
        "rowLimit": 10000
       },
       "nuid": "c83a2592-fb87-48ad-a2fe-3e854c5a4dba",
       "origId": 0,
       "parentHierarchy": [],
       "pivotAggregation": null,
       "pivotColumns": null,
       "position": 5.195289611816406,
       "resultDbfsErrorMessage": null,
       "resultDbfsStatus": "INLINED_IN_TREE",
       "results": null,
       "showCommandTitle": false,
       "startTime": 0,
       "state": "input",
       "streamStates": {},
       "subcommandOptions": {
        "queryPlan": {
         "groups": [
          {
           "column": "NU_ANO",
           "type": "column"
          },
          {
           "column": "SG_UF_ESCOLA",
           "type": "column"
          }
         ],
         "selects": [
          {
           "column": "NU_ANO",
           "type": "column"
          },
          {
           "alias": "column_4a75851659",
           "args": [
            {
             "column": "media_taxa_aprovacao",
             "type": "column"
            }
           ],
           "function": "SUM",
           "type": "function"
          },
          {
           "column": "SG_UF_ESCOLA",
           "type": "column"
          }
         ]
        }
       },
       "submitTime": 0,
       "subtype": "tableResultSubCmd.visualization",
       "tableResultIndex": 0,
       "useConsistentColors": false,
       "version": "CommandV1",
       "width": "auto",
       "workflows": [],
       "xColumns": null,
       "yColumns": null
      }
     },
     "output_type": "display_data"
    }
   ],
   "source": [
    "%sql\n",
    "WITH taxa_por_estado AS (\n",
    "    SELECT \n",
    "        NU_ANO,\n",
    "        SG_UF_ESCOLA,\n",
    "        ROUND(AVG(NU_TAXA_APROVACAO), 2) AS media_taxa_aprovacao\n",
    "    FROM \n",
    "        tbl_enem\n",
    "    WHERE \n",
    "        NU_TAXA_APROVACAO IS NOT NULL\n",
    "    GROUP BY \n",
    "        NU_ANO,\n",
    "        SG_UF_ESCOLA\n",
    "),\n",
    "ranked_taxa AS (\n",
    "    SELECT \n",
    "        NU_ANO,\n",
    "        SG_UF_ESCOLA,\n",
    "        media_taxa_aprovacao,\n",
    "        ROW_NUMBER() OVER (PARTITION BY NU_ANO ORDER BY media_taxa_aprovacao DESC) AS rank\n",
    "    FROM \n",
    "        taxa_por_estado\n",
    ")\n",
    "SELECT \n",
    "    NU_ANO,\n",
    "    SG_UF_ESCOLA,\n",
    "    media_taxa_aprovacao\n",
    "FROM \n",
    "    ranked_taxa\n",
    "WHERE \n",
    "    rank = 1\n",
    "ORDER BY \n",
    "    NU_ANO DESC;\n",
    "\n",
    "\n"
   ]
  },
  {
   "cell_type": "markdown",
   "metadata": {
    "application/vnd.databricks.v1+cell": {
     "cellMetadata": {},
     "inputWidgets": {},
     "nuid": "8edcefd0-5553-4e31-a4bd-2de4a992ea1a",
     "showTitle": false,
     "title": ""
    }
   },
   "source": [
    "O código sql ranqueia o primeiro colocado de cada ano de acordo com a taxa de aprovação.\n",
    "\n",
    "Os estados de São Paulo e Santa Catarina sempre estiveram em primeiro lugar em relação a taxa e aprovação de acordo com os anos e todos os dados históricos."
   ]
  },
  {
   "cell_type": "markdown",
   "metadata": {
    "application/vnd.databricks.v1+cell": {
     "cellMetadata": {},
     "inputWidgets": {},
     "nuid": "a5675aa3-68c1-4327-8443-9e52125d7e4a",
     "showTitle": false,
     "title": ""
    }
   },
   "source": [
    "__________________________________________________________________________________________________________________________________________________________"
   ]
  },
  {
   "cell_type": "markdown",
   "metadata": {
    "application/vnd.databricks.v1+cell": {
     "cellMetadata": {},
     "inputWidgets": {},
     "nuid": "4c94dd1d-3ea0-4282-9814-9002dd769f8b",
     "showTitle": false,
     "title": ""
    }
   },
   "source": [
    "### Conclusão\n",
    "\n",
    "Este trabalho envolveu a análise de um conjunto de dados abrangente sobre o Exame Nacional do Ensino Médio (ENEM) no Brasil, focando nas escolas e seus respectivos desempenhos em várias métricas de avaliação ao longo dos anos. O catálogo de dados utilizado incluiu diversas variáveis, como ano de edição do ENEM, localização da escola, tipo de dependência administrativa, número de matrículas, participantes com necessidades especiais, médias das notas por disciplina, taxas de participação, abandono, aprovação e reprovação, entre outras.\n",
    "\n",
    "#### Principais Conclusões da Análise\n",
    "\n",
    "1. **Desempenho por Tipo de Escola**: \n",
    "   - As escolas administradas por entidades federais apresentaram o melhor desempenho no ENEM, seguidas pelas escolas particulares. As escolas estaduais e municipais tiveram desempenhos inferiores.\n",
    "   - Federal: 31.4%\n",
    "   - Privada: 27.7%\n",
    "   - Estadual: 20.7%\n",
    "   - Municipal: 20.3%\n",
    "\n",
    "2. **Desempenho por Estado**:\n",
    "   - O Distrito Federal teve a melhor média de desempenho, seguido por Rio Grande do Sul, Espírito Santo, Santa Catarina e Minas Gerais. A análise sugere que políticas públicas e incentivos específicos podem influenciar o desempenho educacional mais do que fatores geográficos.\n",
    "\n",
    "3. **Desempenho por Porte da Escola**:\n",
    "   - Escolas com menos alunos tendem a ter melhores desempenhos no ENEM. Isso indica uma possível relação entre o tamanho da turma e a qualidade do ensino.\n",
    "\n",
    "4. **Taxa de Abandono por Porte da Escola**:\n",
    "   - Escolas menores apresentaram menores taxas de abandono, sugerindo que a atenção mais individualizada aos alunos pode reduzir o abandono escolar.\n",
    "\n",
    "5. **Taxas de Permanência, Aprovação, Reprovação e Abandono por Porte da Escola**:\n",
    "   - Turmas menores tendem a ter maiores taxas de aprovação e menores taxas de reprovação e abandono. A taxa de permanência varia pouco conforme o porte da escola.\n",
    "\n",
    "6. **Taxa de Aprovação e Reprovação por Nível Socioeconômico**:\n",
    "   - Escolas com nível socioeconômico mais alto tendem a ter melhores taxas de aprovação e menores taxas de reprovação, indicando uma correlação entre recursos disponíveis e desempenho acadêmico.\n",
    "\n",
    "7. **Evolução da Taxa de Aprovação**:\n",
    "   - A taxa de aprovação no ensino médio aumentou ao longo dos anos, indicando uma melhoria contínua no desempenho educacional, possivelmente influenciada pela implementação do ENEM.\n",
    "\n",
    "8. **Taxa de Aprovação por Estado**:\n",
    "   - São Paulo, Santa Catarina e Ceará apresentaram as melhores taxas de aprovação, mostrando que diferentes regiões do país podem alcançar altos níveis de desempenho.\n",
    "\n",
    "9. **Taxa de Participação no ENEM**:\n",
    "   - A taxa de participação no ENEM aumentou de 2009 a 2015, refletindo a crescente importância do exame para o ingresso no ensino superior e a adesão a programas governamentais.\n",
    "\n",
    "10. **Estados com Maior Taxa de Aprovação ao Longo dos Anos**:\n",
    "    - São Paulo e Santa Catarina destacaram-se consistentemente com as maiores taxas de aprovação ao longo dos anos, demonstrando um desempenho educacional robusto.\n",
    "\n",
    "#### Reflexão Pessoal\n",
    "\n",
    "Este projeto destacou a relevância dos dados para entender e melhorar o sistema educacional brasileiro, evidenciando como a análise cuidadosa de informações pode influenciar políticas e práticas educativas. A experiência reforçou a crença no poder transformador da educação e na importância de um ensino de qualidade para o desenvolvimento social e econômico do país.\n",
    "\n",
    "\n",
    "\n",
    "\n"
   ]
  },
  {
   "cell_type": "markdown",
   "metadata": {
    "application/vnd.databricks.v1+cell": {
     "cellMetadata": {},
     "inputWidgets": {},
     "nuid": "b70f2e4e-9010-4765-8c4c-70681d017489",
     "showTitle": false,
     "title": ""
    }
   },
   "source": [
    "###Autoavaliação:\n",
    "\n",
    "Esta Sprint foi bastante desafiadora, não apenas pela complexidade do tema abordado, mas também por minha dificuldade pessoal, pois passei por uma cirurgia de ouvido não programada. Infelizmente, fiquei mais de um mês de repouso pós-operatório, o que prejudicou bastante a entrega dentro do prazo. Foi uma verdadeira luta, a cirurgia não funcionou, não foi possível colocar a prótese que iria me curar do meu problema de audição, tive que lidar com a frustração, com o fato de não conseguir andar por umas semanas, mas estamos aqui e o trabalho foi feito. \n",
    "\n",
    "Após o período de recuperação, tive a oportunidade de navegar pelo material com certa ansiedade e desejo de aprender. Já possuía experiência na área de banco de dados, devido a um estágio que fiz na faculdade no Tribunal Federal da 2ª Região.\n",
    "\n",
    "Construir este trabalho foi desafiador, mas também gratificante, pois pude analisar informações e chegar a algumas conclusões que me ajudaram a entender o quanto os dados e a informação, juntamente com a proficiência em uma área, são ferramentas poderosas, não só para a análise, mas também para a tomada de decisão. E digo isso não apenas em termos de trabalho ou demanda empresarial, mas para a vida em geral. O ser humano cresce quando analisa informações, aprende e se reinventa."
   ]
  }
 ],
 "metadata": {
  "application/vnd.databricks.v1+notebook": {
   "dashboards": [],
   "environmentMetadata": null,
   "language": "python",
   "notebookMetadata": {
    "mostRecentlyExecutedCommandWithImplicitDF": {
     "commandId": 1837553385473184,
     "dataframes": [
      "_sqldf"
     ]
    },
    "pythonIndentUnit": 4
   },
   "notebookName": "MVP Engenharia de Dados",
   "widgets": {}
  }
 },
 "nbformat": 4,
 "nbformat_minor": 0
}
